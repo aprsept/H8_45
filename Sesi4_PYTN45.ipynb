{
 "cells": [
  {
   "cell_type": "markdown",
   "metadata": {},
   "source": [
    "## Introduction to Numpy"
   ]
  },
  {
   "cell_type": "code",
   "execution_count": 3,
   "metadata": {},
   "outputs": [
    {
     "name": "stdout",
     "output_type": "stream",
     "text": [
      "numpy version: 1.19.2\n"
     ]
    }
   ],
   "source": [
    "import numpy as np\n",
    "print(\"numpy version:\", np.__version__)"
   ]
  },
  {
   "cell_type": "code",
   "execution_count": 21,
   "metadata": {},
   "outputs": [
    {
     "name": "stdout",
     "output_type": "stream",
     "text": [
      "[[1 2 3]\n",
      " [4 5 6]] type: <class 'numpy.ndarray'> shape: (2, 3)\n",
      "axis 0: 2 axis 1: 3\n",
      "length: 2\n",
      "[0.1 0.2 0.3 0.4] type: <class 'numpy.ndarray'> shape: (4,)\n",
      "axis 0: 4\n",
      "length: 4\n",
      "[[[1 2]\n",
      "  [3 4]]\n",
      "\n",
      " [[5 6]\n",
      "  [7 8]]] type: <class 'numpy.ndarray'> shape: (2, 2, 2)\n",
      "axis 0: 2 axis 1: 2 axis 2: 2\n",
      "length: 2\n"
     ]
    }
   ],
   "source": [
    "# data structure in Numpy -> array n-dimensional: ndarray\n",
    "arr_int = np.array([[1, 2, 3], [4, 5, 6]])\n",
    "print(arr_int, \"type:\", type(arr_int), \"shape:\", arr_int.shape)\n",
    "# shape -> bentuk\n",
    "print(\"axis 0:\", arr_int.shape[0], \"axis 1:\", arr_int.shape[1])\n",
    "#axis 0: 1 dimension, axis 1: 2 dimension, axis-n: n-dimension\n",
    "print(\"length:\", len(arr_int))\n",
    "\n",
    "# example 1 dimension\n",
    "arr1d_float = np.array([.1, .2, .3, .4])\n",
    "print(arr1d_float, \"type:\", type(arr1d_float), \"shape:\", arr1d_float.shape)\n",
    "print(\"axis 0:\", arr1d_float.shape[0])\n",
    "print(\"length:\", len(arr1d_float))\n",
    "\n",
    "# example 3 dimensio\n",
    "arr3d_int = np.array([[[1, 2], [3, 4]], [[5, 6], [7, 8]]])\n",
    "print(arr3d_int, \"type:\", type(arr3d_int), \"shape:\", arr3d_int.shape)\n",
    "print(\n",
    "    \"axis 0:\", arr3d_int.shape[0],\n",
    "    \"axis 1:\", arr3d_int.shape[1],\n",
    "    \"axis 2:\", arr3d_int.shape[2]\n",
    ")\n",
    "print(\"length:\", len(arr3d_int))"
   ]
  },
  {
   "cell_type": "code",
   "execution_count": 19,
   "metadata": {},
   "outputs": [
    {
     "name": "stdout",
     "output_type": "stream",
     "text": [
      "[1, 2, 3] [4, 5, 6]\n"
     ]
    }
   ],
   "source": [
    "# compare with list\n",
    "print([1, 2, 3], [4, 5, 6])"
   ]
  },
  {
   "cell_type": "code",
   "execution_count": 45,
   "metadata": {},
   "outputs": [
    {
     "name": "stdout",
     "output_type": "stream",
     "text": [
      "[[0. 0. 0.]\n",
      " [0. 0. 0.]] float64 <class 'numpy.ndarray'> (2, 3)\n",
      "[[1. 1. 1. 1.]\n",
      " [1. 1. 1. 1.]] float64 <class 'numpy.ndarray'> (2, 4)\n",
      "[1.  1.1 1.2 1.3 1.4 1.5 1.6 1.7 1.8 1.9] float64 <class 'numpy.ndarray'> (10,)\n",
      "[[1.04037074e-311 1.04036628e-311 2.12199579e-314 ... 0.00000000e+000\n",
      "  0.00000000e+000 0.00000000e+000]\n",
      " [0.00000000e+000 0.00000000e+000 0.00000000e+000 ... 0.00000000e+000\n",
      "  0.00000000e+000 0.00000000e+000]\n",
      " [0.00000000e+000 0.00000000e+000 0.00000000e+000 ... 0.00000000e+000\n",
      "  0.00000000e+000 0.00000000e+000]\n",
      " ...\n",
      " [0.00000000e+000 0.00000000e+000 0.00000000e+000 ... 0.00000000e+000\n",
      "  0.00000000e+000 0.00000000e+000]\n",
      " [0.00000000e+000 0.00000000e+000 0.00000000e+000 ... 0.00000000e+000\n",
      "  0.00000000e+000 0.00000000e+000]\n",
      " [0.00000000e+000 0.00000000e+000 0.00000000e+000 ... 0.00000000e+000\n",
      "  0.00000000e+000 0.00000000e+000]] float64 <class 'numpy.ndarray'> (100, 100)\n"
     ]
    }
   ],
   "source": [
    "arr_zeros = np.zeros((2, 3))\n",
    "print(arr_zeros, arr_zeros.dtype, type(arr_zeros), arr_zeros.shape)\n",
    "\n",
    "arr_ones = np.ones((2, 4))\n",
    "print(arr_ones, arr_ones.dtype, type(arr_ones), arr_ones.shape)\n",
    "\n",
    "arr_arange = np.arange(1, 2, .1)\n",
    "print(arr_arange, arr_arange.dtype, type(arr_arange), arr_arange.shape)\n",
    "\n",
    "arr_empty = np.empty((100, 100))\n",
    "print(arr_empty, arr_empty.dtype, type(arr_empty), arr_empty.shape)"
   ]
  },
  {
   "cell_type": "code",
   "execution_count": 40,
   "metadata": {},
   "outputs": [
    {
     "name": "stdout",
     "output_type": "stream",
     "text": [
      "list: [[1, 2, 3], [4, 5, 6]]\n",
      "array: [[1 2 3]\n",
      " [4 5 6]]\n",
      "1 [1, 2]\n",
      "1 [1 2]\n",
      "[[6 5 4]\n",
      " [3 2 1]]\n"
     ]
    }
   ],
   "source": [
    "dummy_list = [[1, 2, 3], [4, 5, 6]]\n",
    "print(\"list:\", dummy_list)\n",
    "print(\"array:\", arr_int)\n",
    "\n",
    "# indexing\n",
    "print(dummy_list[0][0], dummy_list[0][:2])\n",
    "print(arr_int[0, 0], arr_int[0, :2])\n",
    "print(arr_int[::-1, ::-1])"
   ]
  },
  {
   "cell_type": "code",
   "execution_count": 42,
   "metadata": {},
   "outputs": [
    {
     "name": "stdout",
     "output_type": "stream",
     "text": [
      "num of dimension: 2\n",
      "num of dimension: 3\n",
      "total_items: 6\n",
      "total items: 8\n"
     ]
    }
   ],
   "source": [
    "# ndim and size of ndarray\n",
    "print(\"num of dimension:\", arr_int.ndim)\n",
    "print(\"num of dimension:\", arr3d_int.ndim)\n",
    "\n",
    "print(\"total_items:\", arr_int.size)\n",
    "print(\"total items:\", arr3d_int.size)"
   ]
  },
  {
   "cell_type": "code",
   "execution_count": 43,
   "metadata": {},
   "outputs": [
    {
     "name": "stdout",
     "output_type": "stream",
     "text": [
      "before flatten: [[1 2 3]\n",
      " [4 5 6]]\n",
      "after flatten: [1 2 3 4 5 6]\n"
     ]
    }
   ],
   "source": [
    "# flatten\n",
    "print(\"before flatten:\", arr_int)\n",
    "print(\"after flatten:\", arr_int.flatten())"
   ]
  },
  {
   "cell_type": "code",
   "execution_count": 57,
   "metadata": {},
   "outputs": [
    {
     "name": "stdout",
     "output_type": "stream",
     "text": [
      "[ 0.1  0.2  0.3  0.4 10.  11.  12. ]\n",
      "[[ 1  2  3]\n",
      " [ 4  5  6]\n",
      " [10 11 12]]\n",
      "[[ 1  2  3 10]\n",
      " [ 4  5  6 11]]\n",
      "[[1 2 3 1 2 3]\n",
      " [4 5 6 4 5 6]]\n",
      "[[1 2 3]\n",
      " [4 5 6]\n",
      " [1 2 3]\n",
      " [4 5 6]\n",
      " [1 2 3]\n",
      " [4 5 6]]\n",
      "[[1. 2. 3.]\n",
      " [4. 5. 6.]\n",
      " [0. 0. 0.]\n",
      " [0. 0. 0.]]\n",
      "[[1 2 3 1 2 3 1 2 3 1 2 3 1 2 3]\n",
      " [4 5 6 4 5 6 4 5 6 4 5 6 4 5 6]]\n"
     ]
    }
   ],
   "source": [
    "# append\n",
    "print(np.append(arr1d_float, [10, 11, 12])) # append array with defined array\n",
    "print(np.append(arr_int, [[10, 11, 12]], axis=0))\n",
    "print(np.append(arr_int, [[10], [11]], axis=1))\n",
    "print(np.append(arr_int, arr_int, axis=1)) # append with existing arrays, only 2\n",
    "print(np.concatenate([arr_int, arr_int, arr_int]))  # append with existing arrays, > 2\n",
    "print(np.concatenate([arr_int, arr_zeros], axis=0))\n",
    "print(np.concatenate([arr_int] * 5, axis=1)) # append with existing arrays, multiplied"
   ]
  },
  {
   "cell_type": "code",
   "execution_count": 59,
   "metadata": {},
   "outputs": [
    {
     "name": "stdout",
     "output_type": "stream",
     "text": [
      "[[[1 2]\n",
      "  [3 4]]\n",
      "\n",
      " [[5 6]\n",
      "  [7 8]]]\n",
      "[[[1 2]\n",
      "  [3 4]]]\n",
      "[[[1 2]]\n",
      "\n",
      " [[5 6]]]\n"
     ]
    }
   ],
   "source": [
    "# delete\n",
    "print(arr3d_int)\n",
    "print(np.delete(arr3d_int, 1, axis=0))\n",
    "print(np.delete(arr3d_int, -1, axis=1))"
   ]
  },
  {
   "cell_type": "code",
   "execution_count": 75,
   "metadata": {},
   "outputs": [
    {
     "name": "stdout",
     "output_type": "stream",
     "text": [
      "[[[1 2]\n",
      "  [3 4]]\n",
      "\n",
      " [[5 6]\n",
      "  [7 8]]] (2, 2, 2)\n",
      "[1 2 3 4 5 6 7 8]\n",
      "[[1 2 3 4]\n",
      " [5 6 7 8]] 2\n",
      "[[1 2 3 4]\n",
      " [5 6 7 8]]\n",
      "2\n"
     ]
    }
   ],
   "source": [
    "# reshape -> new shape hrs kompatible dgn array original\n",
    "print(arr3d_int, arr3d_int.shape)\n",
    "print(arr3d_int.flatten())\n",
    "print(np.reshape(arr3d_int, (2, 4)), np.reshape(arr3d_int, (2, 4)).ndim)\n",
    "print(arr3d_int.reshape(2, 4))\n",
    "\n",
    "# resize -> tdk harus kompatibel\n",
    "print(np.resize(arr3d_int, (5, 3)).ndim)\n"
   ]
  },
  {
   "cell_type": "code",
   "execution_count": 85,
   "metadata": {},
   "outputs": [
    {
     "name": "stdout",
     "output_type": "stream",
     "text": [
      "(4,)\n",
      "[[0.1 0.2 0.3 0.4]]\n",
      "[[0.1 0.2 0.3 0.4]] (1, 4)\n",
      "[[0.1 0.2 0.3 0.4]]\n",
      "(2, 2, 2, 1)\n",
      "(2, 2, 2, 1)\n",
      "(2, 1, 2, 2)\n"
     ]
    }
   ],
   "source": [
    "# newaxis -> npnewaxis akan nambah 1 dimensi\n",
    "print(arr1d_float.shape)\n",
    "print(arr1d_float[np.newaxis],)\n",
    "\n",
    "arr2d_float = arr1d_float[np.newaxis]\n",
    "print(arr2d_float, arr2d_float.shape)\n",
    "\n",
    "print(arr1d_float[None]) # cara lain selain npnewaxis\n",
    "\n",
    "print(arr3d_int[:, :, :, np.newaxis].shape) # jmlh \":\" sesuai dimensi, atau\n",
    "print(arr3d_int[..., np.newaxis].shape) # \"...\" -> elipsis, utk kalo nggatau dimensinya ada brp\n",
    "print(arr3d_int[:, np.newaxis, ...].shape)"
   ]
  },
  {
   "cell_type": "code",
   "execution_count": 92,
   "metadata": {},
   "outputs": [
    {
     "name": "stdout",
     "output_type": "stream",
     "text": [
      "[[1 2 3]\n",
      " [4 5 6]]\n",
      "[[1 4]\n",
      " [2 5]\n",
      " [3 6]]\n",
      "[[1 4]\n",
      " [2 5]\n",
      " [3 6]]\n",
      "[[1 2]\n",
      " [3 4]\n",
      " [5 6]]\n"
     ]
    }
   ],
   "source": [
    "# transpose\n",
    "print(arr_int)\n",
    "print(arr_int.T)\n",
    "print(np.transpose(arr_int))\n",
    "print(arr_int.reshape(arr_int.shape[1], arr_int.shape[0]))"
   ]
  },
  {
   "cell_type": "code",
   "execution_count": 108,
   "metadata": {},
   "outputs": [
    {
     "name": "stdout",
     "output_type": "stream",
     "text": [
      "[[1, 2, 3], [4, 5, 6], [1, 2, 3], [4, 5, 6]]\n",
      "[[ 2  4  6]\n",
      " [ 8 10 12]]\n",
      "[[[ 8 16]\n",
      "  [24 32]]\n",
      "\n",
      " [[40 48]\n",
      "  [56 64]]]\n",
      "[0.01 0.04 0.09 0.16]\n",
      "[[ 1  4  9]\n",
      " [16 25 36]]\n",
      "[[1. 1. 1.]\n",
      " [1. 1. 1.]]\n",
      "[0.794 0.725 0.697 0.693]\n",
      "[[1 2 3]\n",
      " [4 5 6]]\n",
      "[5 7 9]\n",
      "[[ 6]\n",
      " [15]]\n"
     ]
    }
   ],
   "source": [
    "# mathematical operation\n",
    "print(dummy_list + dummy_list)\n",
    "print(arr_int + arr_int) # harus sama axisnya\n",
    "print(arr3d_int * 8)\n",
    "print(arr1d_float * arr1d_float)\n",
    "print(arr_int * arr_int)\n",
    "print(arr_int / arr_int)\n",
    "\n",
    "print(np.round(arr1d_float ** arr1d_float, decimals=3))\n",
    "\n",
    "print(arr_int)\n",
    "print(arr_int.sum(axis=0))\n",
    "print(arr_int.sum(axis=1, keepdims=True))"
   ]
  },
  {
   "cell_type": "code",
   "execution_count": 113,
   "metadata": {},
   "outputs": [
    {
     "name": "stdout",
     "output_type": "stream",
     "text": [
      "[0.1 0.2 0.3 0.4]\n",
      "0.3\n",
      "[[[1 2]\n",
      "  [3 4]]\n",
      "\n",
      " [[5 6]\n",
      "  [7 8]]]\n",
      "[[[10 20]\n",
      "  [30 40]]\n",
      "\n",
      " [[50 60]\n",
      "  [70 80]]]\n",
      "[[1 2 3]\n",
      " [4 5 6]]\n",
      "[[14 32]\n",
      " [32 77]]\n"
     ]
    }
   ],
   "source": [
    "# np.dot\n",
    "print(arr1d_float)\n",
    "print(np.dot(arr1d_float, arr1d_float))\n",
    "\n",
    "print(arr3d_int)\n",
    "print(np.dot(arr3d_int, 10))\n",
    "\n",
    "print(arr_int)\n",
    "print(np.dot(arr_int, arr_int.T))"
   ]
  },
  {
   "cell_type": "code",
   "execution_count": 126,
   "metadata": {},
   "outputs": [
    {
     "name": "stdout",
     "output_type": "stream",
     "text": [
      "[[1 2 3]\n",
      " [4 5 6]]\n",
      "[[17 22 27]\n",
      " [22 29 36]\n",
      " [27 36 45]]\n",
      "[[14 32]\n",
      " [32 77]]\n",
      "[[ 1  4  9]\n",
      " [16 25 36]]\n"
     ]
    }
   ],
   "source": [
    "# matrix multiplication\n",
    "print(arr_int)\n",
    "print(np.matmul(arr_int.T, arr_int))\n",
    "print(np.matmul(arr_int, arr_int.T))\n",
    "\n"
   ]
  },
  {
   "cell_type": "code",
   "execution_count": 133,
   "metadata": {},
   "outputs": [
    {
     "name": "stdout",
     "output_type": "stream",
     "text": [
      "[[9 4 0 1 9]\n",
      " [0 1 8 9 0]\n",
      " [8 6 4 3 0]\n",
      " [4 6 8 1 8]\n",
      " [4 1 3 6 5]\n",
      " [3 9 6 9 1]\n",
      " [9 4 2 6 7]]\n",
      "[[9.89390774 4.49250993 7.0130597  4.96316471 6.98050318]\n",
      " [6.29935709 9.30830048 2.32261309 6.0401129  8.90241268]\n",
      " [3.41438838 8.75095781 3.09807956 2.51209209 7.2119975 ]\n",
      " [4.62175939 2.14846786 1.1528122  5.79337049 2.11829955]\n",
      " [7.33538171 8.81838052 2.4146386  4.06867326 4.64104356]\n",
      " [6.07281672 6.79374706 4.71582167 8.65475797 8.45885262]\n",
      " [6.42551929 4.25843592 6.64732043 9.97833915 5.0606528 ]]\n",
      "[[ 0.71588314 -1.18576855 -0.6363279  ...  1.46127126 -0.14540648\n",
      "   0.73097974]\n",
      " [-0.61770627  1.68435892 -0.87947247 ...  1.84132241 -1.80952525\n",
      "  -0.50499114]\n",
      " [ 1.60266609  1.18937788  0.25529429 ...  0.65194319 -0.12614606\n",
      "   0.10251265]\n",
      " ...\n",
      " [-0.31602245 -2.30673157 -0.98906551 ... -0.74562225  0.38911965\n",
      "  -1.7026256 ]\n",
      " [-0.20523372  0.46628462  0.44095853 ... -1.45702894 -0.9324995\n",
      "  -0.80880996]\n",
      " [ 0.03825287  0.29182488  0.22341588 ... -0.62883318  1.83318832\n",
      "   0.10892427]]\n",
      "[[ 0.17167399]\n",
      " [-2.06432516]\n",
      " [ 9.62163977]\n",
      " [-6.6094877 ]\n",
      " [ 5.83436716]]\n"
     ]
    }
   ],
   "source": [
    "# random\n",
    "np.random.seed(10)\n",
    "print(np.random.randint(10, size=(7, 5)))\n",
    "print(np.random.uniform(10, size=(7, 5)))\n",
    "print(np.random.randn(12, 100))\n",
    "print(np.random.normal(1., 10, size=(5, 1)))"
   ]
  },
  {
   "cell_type": "code",
   "execution_count": null,
   "metadata": {},
   "outputs": [],
   "source": [
    "# "
   ]
  }
 ],
 "metadata": {
  "kernelspec": {
   "display_name": "Python 3",
   "language": "python",
   "name": "python3"
  },
  "language_info": {
   "codemirror_mode": {
    "name": "ipython",
    "version": 3
   },
   "file_extension": ".py",
   "mimetype": "text/x-python",
   "name": "python",
   "nbconvert_exporter": "python",
   "pygments_lexer": "ipython3",
   "version": "3.8.5"
  }
 },
 "nbformat": 4,
 "nbformat_minor": 4
}

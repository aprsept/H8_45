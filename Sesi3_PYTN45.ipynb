{
 "cells": [
  {
   "cell_type": "markdown",
   "metadata": {},
   "source": [
    "## Modularity in Python"
   ]
  },
  {
   "cell_type": "markdown",
   "metadata": {},
   "source": [
    "## Function and/or methods"
   ]
  },
  {
   "cell_type": "code",
   "execution_count": 3,
   "metadata": {},
   "outputs": [],
   "source": [
    "def cylinder_volume(height, radius):\n",
    "    \"\"\"Computes volume of a cylinder.\"\"\"\n",
    "    volume = 3.14 * radius**2 * height\n",
    "    return volume\n",
    "\n",
    "def show_cylinder_volume(height, radius):\n",
    "    \"\"\"Show volume of a cylinder.\"\"\"\n",
    "    volume = 3.14 * radius**2 * height\n",
    "    print(volume)"
   ]
  },
  {
   "cell_type": "code",
   "execution_count": 4,
   "metadata": {},
   "outputs": [
    {
     "name": "stdout",
     "output_type": "stream",
     "text": [
      "Volume: 2198.0\n",
      "Volume: 3140.0\n",
      "3140.0\n",
      "Volume: 3140.0\n"
     ]
    }
   ],
   "source": [
    "vol_1 = cylinder_volume(7, 10)\n",
    "print(\"Volume:\", vol_1)\n",
    "\n",
    "vol_2 = cylinder_volume(10,10)\n",
    "print(\"Volume:\", vol_2)\n",
    "\n",
    "vol_3 = show_cylinder_volume(10,10)\n",
    "print(\"Volume:\", vol_2)"
   ]
  },
  {
   "cell_type": "code",
   "execution_count": 16,
   "metadata": {},
   "outputs": [],
   "source": [
    "def filter_data(data, criteria):\n",
    "    filtered_data = {}\n",
    "    for item in data:\n",
    "        if criteria in item.lower():\n",
    "            filtered_data[data.index(item)] = item\n",
    "            return filtered_data\n",
    "            "
   ]
  },
  {
   "cell_type": "code",
   "execution_count": 21,
   "metadata": {},
   "outputs": [
    {
     "data": {
      "text/plain": [
       "{0: 'kim namjoon', 1: 'kim taehyung', 6: 'kim seokjin'}"
      ]
     },
     "execution_count": 21,
     "metadata": {},
     "output_type": "execute_result"
    }
   ],
   "source": [
    "list_names = [\"kim namjoon\", \"kim taehyung\", \"jeon jungkook\", \"jung hoseok\", \"park jimin\", \"min yoongi\", \"kim seokjin\"]\n",
    "filter_data(list_names, \"kim\")"
   ]
  },
  {
   "cell_type": "code",
   "execution_count": 22,
   "metadata": {},
   "outputs": [
    {
     "data": {
      "text/plain": [
       "{2: 'jeon jungkook', 3: 'jung hoseok', 6: 'kim seokjin'}"
      ]
     },
     "execution_count": 22,
     "metadata": {},
     "output_type": "execute_result"
    }
   ],
   "source": [
    "filter_data(list_names, \"ok\")"
   ]
  },
  {
   "cell_type": "code",
   "execution_count": 20,
   "metadata": {},
   "outputs": [
    {
     "data": {
      "text/plain": [
       "{2: 'idfi taniya', 3: 'idfi taniya kusuma', 5: 'yoanita'}"
      ]
     },
     "execution_count": 20,
     "metadata": {},
     "output_type": "execute_result"
    }
   ],
   "source": [
    "list_names1 = [\"septy\", \"eza\", \"idfi taniya\", \"idfi taniya kusuma\", \"tiurma\", \"yoanita\", \"idfi\", \"windi\"]\n",
    "\n",
    "def filter_data(data, criteria):\n",
    "    filtered_data = {}\n",
    "    for item in data:\n",
    "        if criteria in item.lower():\n",
    "            filtered_data[data.index(item)] = item\n",
    "    return filtered_data\n",
    "        \n",
    "filter_data(list_names1, \"ani\")"
   ]
  },
  {
   "cell_type": "code",
   "execution_count": 23,
   "metadata": {},
   "outputs": [
    {
     "data": {
      "text/plain": [
       "{4: 'park jimin', 5: 'min yoongi'}"
      ]
     },
     "execution_count": 23,
     "metadata": {},
     "output_type": "execute_result"
    }
   ],
   "source": [
    "def filter_data(data, criteria=\"min\"):\n",
    "    filtered_data = {}\n",
    "    for item in data:\n",
    "        if criteria in item.lower():\n",
    "            filtered_data[data.index(item)] = item\n",
    "    return filtered_data\n",
    "\n",
    "filter_data(list_names)"
   ]
  },
  {
   "cell_type": "code",
   "execution_count": 26,
   "metadata": {},
   "outputs": [
    {
     "name": "stdout",
     "output_type": "stream",
     "text": [
      "1 2 3 4 5 6 7 8 9 10\n",
      "1..2..3..4..5..6..7..8..9..10--1..2..3..4..5..6..7..8..9..10\n",
      "1 2 3 4 5 6 7 8 9 10 //\n",
      "1//2//3//4//5//6//7//8//9//10\n"
     ]
    }
   ],
   "source": [
    "print(1, 2, 3, 4, 5, 6, 7, 8, 9, 10)\n",
    "print(1, 2, 3, 4, 5, 6, 7, 8, 9, 10, sep=\"..\", end=\"--\")\n",
    "print(1, 2, 3, 4, 5, 6, 7, 8, 9, 10, sep=\"..\")\n",
    "print(1, 2, 3, 4, 5, 6, 7, 8, 9, 10, \"//\")\n",
    "print(1, 2, 3, 4, 5, 6, 7, 8, 9, 10, sep=\"//\")"
   ]
  },
  {
   "cell_type": "code",
   "execution_count": 33,
   "metadata": {},
   "outputs": [],
   "source": [
    "def show_all(*names, sep=\" \"):\n",
    "    string = \"\"\n",
    "    for name in names:\n",
    "        string += name\n",
    "        string += sep\n",
    "    return string[:-1]\n",
    "\n",
    "def shows(sep=\" \", *names):\n",
    "    string = \"\"\n",
    "    for name in names:\n",
    "        string += name\n",
    "        string += sep\n",
    "    return string[:-1]\n",
    "\n"
   ]
  },
  {
   "cell_type": "code",
   "execution_count": 35,
   "metadata": {},
   "outputs": [
    {
     "data": {
      "text/plain": [
       "'kim namjoon kim taehyung jeon jungkook jung hoseok park jimin min yoongi kim seokjin'"
      ]
     },
     "execution_count": 35,
     "metadata": {},
     "output_type": "execute_result"
    }
   ],
   "source": [
    "show_all(\"kim namjoon\", \"kim taehyung\", \"jeon jungkook\", \"jung hoseok\", \"park jimin\", \"min yoongi\", \"kim seokjin\")"
   ]
  },
  {
   "cell_type": "code",
   "execution_count": 34,
   "metadata": {},
   "outputs": [
    {
     "data": {
      "text/plain": [
       "'kim taehyungkim namjoonjeon jungkookkim namjoonjung hoseokkim namjoonpark jiminkim namjoonmin yoongikim namjoonkim seokjinkim namjoo'"
      ]
     },
     "execution_count": 34,
     "metadata": {},
     "output_type": "execute_result"
    }
   ],
   "source": [
    "shows(\"kim namjoon\", \"kim taehyung\", \"jeon jungkook\", \"jung hoseok\", \"park jimin\", \"min yoongi\", \"kim seokjin\")"
   ]
  },
  {
   "cell_type": "code",
   "execution_count": 38,
   "metadata": {},
   "outputs": [
    {
     "name": "stdout",
     "output_type": "stream",
     "text": [
      "20\n",
      "20\n"
     ]
    }
   ],
   "source": [
    "def jumlah(x, y):\n",
    "    return x + y\n",
    "\n",
    "jum = lambda arg1, arg2: arg1 + arg2\n",
    "\n",
    "jum_1 = jumlah(10, 10)\n",
    "print(jum_1)\n",
    "\n",
    "jum_2 = jum(10, 10)\n",
    "print(jum_2)"
   ]
  },
  {
   "cell_type": "markdown",
   "metadata": {},
   "source": [
    "## Modules"
   ]
  },
  {
   "cell_type": "code",
   "execution_count": 1,
   "metadata": {},
   "outputs": [],
   "source": [
    "import process"
   ]
  },
  {
   "cell_type": "code",
   "execution_count": 6,
   "metadata": {},
   "outputs": [],
   "source": [
    "list_names=(\"dokyeom\", \"vernon\", \"seungkwan\", \"mingyu\", \"jeonghan\", \"wonwoo\", \"seungcheol\", \"joshua\", \"jun\", \"dino\", \"woozi\", \"the eight\", \"hoshi\")"
   ]
  },
  {
   "cell_type": "code",
   "execution_count": 7,
   "metadata": {},
   "outputs": [
    {
     "data": {
      "text/plain": [
       "{5: 'wonwoo', 10: 'woozi'}"
      ]
     },
     "execution_count": 7,
     "metadata": {},
     "output_type": "execute_result"
    }
   ],
   "source": [
    "process.filter_data(list_names, criteria=\"woo\")"
   ]
  },
  {
   "cell_type": "code",
   "execution_count": 8,
   "metadata": {},
   "outputs": [],
   "source": [
    "import process as p"
   ]
  },
  {
   "cell_type": "code",
   "execution_count": 9,
   "metadata": {},
   "outputs": [
    {
     "data": {
      "text/plain": [
       "{1: 'vernon', 4: 'jeonghan', 5: 'wonwoo'}"
      ]
     },
     "execution_count": 9,
     "metadata": {},
     "output_type": "execute_result"
    }
   ],
   "source": [
    "p.filter_data(list_names, criteria=\"on\")"
   ]
  },
  {
   "cell_type": "code",
   "execution_count": 10,
   "metadata": {},
   "outputs": [],
   "source": [
    "#module process dipindah ke folder \"hacktiv\"\n",
    "import hacktiv.process"
   ]
  },
  {
   "cell_type": "markdown",
   "metadata": {},
   "source": [
    "## Packages"
   ]
  },
  {
   "cell_type": "code",
   "execution_count": 12,
   "metadata": {},
   "outputs": [],
   "source": [
    "import hacktiv.model\n",
    "import hacktiv.process"
   ]
  },
  {
   "cell_type": "code",
   "execution_count": 15,
   "metadata": {},
   "outputs": [],
   "source": [
    "list_names=(\"dokyeom\", \"vernon\", \"seungkwan\", \"mingyu\", \"jeonghan\", \"wonwoo\", \"seungcheol\", \"joshua\", \"jun\", \"dino\", \"woozi\", \"the eight\", \"hoshi\")"
   ]
  },
  {
   "cell_type": "code",
   "execution_count": 16,
   "metadata": {},
   "outputs": [
    {
     "data": {
      "text/plain": [
       "{5: 'wonwoo', 10: 'woozi'}"
      ]
     },
     "execution_count": 16,
     "metadata": {},
     "output_type": "execute_result"
    }
   ],
   "source": [
    "hacktiv.process.filter_data(list_names, criteria=\"woo\")"
   ]
  },
  {
   "cell_type": "code",
   "execution_count": null,
   "metadata": {},
   "outputs": [],
   "source": []
  }
 ],
 "metadata": {
  "kernelspec": {
   "display_name": "Python 3",
   "language": "python",
   "name": "python3"
  },
  "language_info": {
   "codemirror_mode": {
    "name": "ipython",
    "version": 3
   },
   "file_extension": ".py",
   "mimetype": "text/x-python",
   "name": "python",
   "nbconvert_exporter": "python",
   "pygments_lexer": "ipython3",
   "version": "3.8.5"
  }
 },
 "nbformat": 4,
 "nbformat_minor": 4
}

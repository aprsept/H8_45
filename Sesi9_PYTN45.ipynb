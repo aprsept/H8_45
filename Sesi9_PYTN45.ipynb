{
 "cells": [
  {
   "cell_type": "markdown",
   "metadata": {},
   "source": [
    "# Descriptive Statistics with Python"
   ]
  },
  {
   "cell_type": "code",
   "execution_count": 1,
   "metadata": {},
   "outputs": [],
   "source": [
    "import math\n",
    "import statistics\n",
    "\n",
    "import numpy as np\n",
    "import scipy\n",
    "import scipy.stats\n",
    "import pandas as pd"
   ]
  },
  {
   "cell_type": "code",
   "execution_count": 2,
   "metadata": {},
   "outputs": [
    {
     "name": "stdout",
     "output_type": "stream",
     "text": [
      "Numpy version 1.19.2\n",
      "Scipy version 1.5.2\n",
      "Pandas version 1.1.3\n"
     ]
    }
   ],
   "source": [
    "print(\"Numpy version\", np.__version__)\n",
    "print(\"Scipy version\", scipy.__version__)\n",
    "print(\"Pandas version\", pd.__version__)"
   ]
  },
  {
   "cell_type": "code",
   "execution_count": 3,
   "metadata": {},
   "outputs": [
    {
     "name": "stdout",
     "output_type": "stream",
     "text": [
      "[8.0, 1, 2.5, 4, 28.0]\n",
      "[8.0, 1, 2.5, nan, 4, 28.0]\n"
     ]
    }
   ],
   "source": [
    "list_x = [8., 1, 2.5, 4, 28.]\n",
    "list_x_nan = [8., 1, 2.5, math.nan, 4, 28.]\n",
    "\n",
    "print(list_x)\n",
    "print(list_x_nan)"
   ]
  },
  {
   "cell_type": "code",
   "execution_count": 4,
   "metadata": {},
   "outputs": [
    {
     "name": "stdout",
     "output_type": "stream",
     "text": [
      "[ 8.   1.   2.5  4.  28. ] [ 8.   1.   2.5  nan  4.  28. ]\n",
      "0     8.0\n",
      "1     1.0\n",
      "2     2.5\n",
      "3     4.0\n",
      "4    28.0\n",
      "dtype: float64\n",
      "0     8.0\n",
      "1     1.0\n",
      "2     2.5\n",
      "3     NaN\n",
      "4     4.0\n",
      "5    28.0\n",
      "dtype: float64\n"
     ]
    }
   ],
   "source": [
    "arr_x, arr_x_nan = np.array(list_x), np.array(list_x_nan)\n",
    "series_x, series_x_nan = pd.Series(list_x), pd.Series(list_x_nan)\n",
    "\n",
    "print(arr_x, arr_x_nan)\n",
    "print(series_x, series_x_nan, sep=\"\\n\")"
   ]
  },
  {
   "cell_type": "markdown",
   "metadata": {},
   "source": [
    "# Mean"
   ]
  },
  {
   "cell_type": "code",
   "execution_count": 5,
   "metadata": {},
   "outputs": [
    {
     "name": "stdout",
     "output_type": "stream",
     "text": [
      "Native mean: 8.7\n",
      "Statistics mean: 8.7\n"
     ]
    }
   ],
   "source": [
    "native_mean = sum(list_x) / len(list_x)\n",
    "stats_mean = statistics.mean(list_x)\n",
    "print(\"Native mean:\", native_mean)\n",
    "print(\"Statistics mean:\", stats_mean)"
   ]
  },
  {
   "cell_type": "code",
   "execution_count": 6,
   "metadata": {},
   "outputs": [
    {
     "name": "stdout",
     "output_type": "stream",
     "text": [
      "List x with NaN [8.0, 1, 2.5, nan, 4, 28.0]\n",
      "Native mean with nan: nan\n",
      "Statistics mean with nan: nan\n",
      "Numpy mean with nan: nan\n"
     ]
    }
   ],
   "source": [
    "print(\"List x with NaN\", list_x_nan)\n",
    "native_mean_nan = sum(list_x_nan) / len(list_x_nan)\n",
    "stats_mean_nan = statistics.mean(list_x_nan)\n",
    "arr_mean_nan = arr_x_nan.mean()\n",
    "\n",
    "print(\"Native mean with nan:\", native_mean_nan)\n",
    "print(\"Statistics mean with nan:\", stats_mean_nan)\n",
    "print(\"Numpy mean with nan:\", arr_mean_nan)"
   ]
  },
  {
   "cell_type": "code",
   "execution_count": 7,
   "metadata": {},
   "outputs": [
    {
     "name": "stdout",
     "output_type": "stream",
     "text": [
      "Numpy mean ignoring nan: 8.7\n"
     ]
    }
   ],
   "source": [
    "np_mean_ignoring_nan = np.nanmean(arr_x_nan)\n",
    "print(\"Numpy mean ignoring nan:\", np_mean_ignoring_nan)"
   ]
  },
  {
   "cell_type": "code",
   "execution_count": 8,
   "metadata": {},
   "outputs": [
    {
     "data": {
      "text/plain": [
       "(8.7, 8.7, nan)"
      ]
     },
     "execution_count": 8,
     "metadata": {},
     "output_type": "execute_result"
    }
   ],
   "source": [
    "# Pandas by default will ignore nan\n",
    "series_x_nan.mean(), series_x.mean(), series_x_nan.mean(skipna=False)"
   ]
  },
  {
   "cell_type": "code",
   "execution_count": 9,
   "metadata": {},
   "outputs": [
    {
     "name": "stdout",
     "output_type": "stream",
     "text": [
      "List x: [8.0, 1, 2.5, 4, 28.0]\n",
      "List weights: [0.1, 0.2, 0.3, 0.25, 0.15]\n"
     ]
    }
   ],
   "source": [
    "list_weight = [.1, .2, .3, .25, .15]\n",
    "print(\"List x:\", list_x)\n",
    "print(\"List weights:\", list_weight)"
   ]
  },
  {
   "cell_type": "code",
   "execution_count": 10,
   "metadata": {},
   "outputs": [
    {
     "name": "stdout",
     "output_type": "stream",
     "text": [
      "6.95\n"
     ]
    }
   ],
   "source": [
    "jumlah = 0\n",
    "for idx in range(len(list_x)):\n",
    "    jumlah += list_weight[idx] * list_x[idx]\n",
    "print(jumlah)"
   ]
  },
  {
   "cell_type": "code",
   "execution_count": 11,
   "metadata": {},
   "outputs": [
    {
     "name": "stdout",
     "output_type": "stream",
     "text": [
      "6.95\n",
      "6.95\n",
      "6.95\n"
     ]
    }
   ],
   "source": [
    "weighted_mean = sum(list_weight[idx] * list_x[idx] for idx in range (len(list_x))) / sum(list_weight)\n",
    "print(weighted_mean)\n",
    "\n",
    "weighted_mean = sum(w*x for w, x in zip(list_weight, list_x)) / sum(list_weight)\n",
    "print(weighted_mean)\n",
    "\n",
    "weighted_mean = np.average(list_x, weights=list_weight)\n",
    "print(weighted_mean)"
   ]
  },
  {
   "cell_type": "markdown",
   "metadata": {},
   "source": [
    "# Harmonic Mean"
   ]
  },
  {
   "cell_type": "code",
   "execution_count": 12,
   "metadata": {},
   "outputs": [
    {
     "name": "stdout",
     "output_type": "stream",
     "text": [
      "Native harmonic mean: 2.7613412228796843\n",
      "Native arithmetic mean: 8.7\n",
      "Scipy harmonic mean: 2.7613412228796843\n",
      "Stats harmonic mean: 2.7613412228796843\n"
     ]
    }
   ],
   "source": [
    "harmonic_mean = len(list_x) / sum(1 / x for x in list_x)\n",
    "scipy_harmonic_mean = scipy.stats.hmean(list_x)\n",
    "stats_harmonic_mean = statistics.harmonic_mean(list_x)\n",
    "print(\"Native harmonic mean:\", harmonic_mean)\n",
    "print(\"Native arithmetic mean:\", sum(list_x) / len(list_x))\n",
    "print(\"Scipy harmonic mean:\", scipy_harmonic_mean)\n",
    "print(\"Stats harmonic mean:\", stats_harmonic_mean)"
   ]
  },
  {
   "cell_type": "markdown",
   "metadata": {},
   "source": [
    "# Geometric Mean"
   ]
  },
  {
   "cell_type": "code",
   "execution_count": 13,
   "metadata": {},
   "outputs": [
    {
     "name": "stdout",
     "output_type": "stream",
     "text": [
      "Native geometric mean: 4.677885674856041\n",
      "Scipy geometric mean: 4.67788567485604\n",
      "Scipy geometric mean with nan: nan\n"
     ]
    }
   ],
   "source": [
    "geometric_mean = 1\n",
    "for value in list_x:\n",
    "    geometric_mean *= value\n",
    "geometric_mean **= (1/len(list_x))\n",
    "print(\"Native geometric mean:\", geometric_mean)\n",
    "\n",
    "scipy_geometric_mean = scipy.stats.gmean(list_x)\n",
    "print(\"Scipy geometric mean:\", scipy_geometric_mean)\n",
    "\n",
    "print(\"Scipy geometric mean with nan:\", scipy.stats.gmean(list_x_nan))"
   ]
  },
  {
   "cell_type": "markdown",
   "metadata": {},
   "source": [
    "# Median"
   ]
  },
  {
   "cell_type": "code",
   "execution_count": 14,
   "metadata": {},
   "outputs": [
    {
     "name": "stdout",
     "output_type": "stream",
     "text": [
      "Number of values: 5\n",
      "Native median: 4\n"
     ]
    }
   ],
   "source": [
    "num_data = len(list_x)\n",
    "print(\"Number of values:\", num_data)\n",
    "\n",
    "if num_data % 2: # n is odd\n",
    "    native_median = sorted(list_x)[round((num_data-1) / 2)]\n",
    "else: # n is even\n",
    "    median_idx = num_data / 2\n",
    "    native_median = (sorted(x)[median_idx-1] + sorted(x)[median_idx]) / 2\n",
    "print(\"Native median:\", native_median)"
   ]
  },
  {
   "cell_type": "code",
   "execution_count": 15,
   "metadata": {},
   "outputs": [
    {
     "name": "stdout",
     "output_type": "stream",
     "text": [
      "[8.0, 1, 2.5, 4]\n",
      "Number of values: 4\n",
      "Native median: 3.25\n"
     ]
    }
   ],
   "source": [
    "num_data = len(list_x[:-1])\n",
    "print(list_x[:-1])\n",
    "print(\"Number of values:\", num_data)\n",
    "\n",
    "if num_data % 2: # n is odd\n",
    "    native_median = sorted(list_x)[round((num_data-1) / 2)]\n",
    "else: # n is even\n",
    "    median_idx = round(num_data / 2)\n",
    "    native_median = (sorted(list_x)[median_idx-1] + sorted(list_x)[median_idx]) / 2\n",
    "print(\"Native median:\", native_median)"
   ]
  },
  {
   "cell_type": "code",
   "execution_count": 16,
   "metadata": {},
   "outputs": [
    {
     "name": "stdout",
     "output_type": "stream",
     "text": [
      "4\n",
      "3.25\n",
      "4\n",
      "2.5\n",
      "[1, 2.5, 4, 8.0, nan, 28.0]\n",
      "6.0\n",
      "8.0\n",
      "4\n",
      "[1, 2.5, nan, 4, 28.0]\n",
      "nan\n",
      "nan\n",
      "nan\n",
      "Numpy median: 4.0\n",
      "Numpy median list_x[:-1]: 3.25\n",
      "Numpy median list with NaN: nan\n",
      "Numpy median list with NaN list_x_nan[1:]: nan\n",
      "Numpy median list ignoring NaN: 4.0\n",
      "Numpy median list ignoring NaN list_x_nan[1:]: 3.25\n"
     ]
    }
   ],
   "source": [
    "print(statistics.median(list_x))\n",
    "print(statistics.median(list_x[:-1]))\n",
    "\n",
    "print(statistics.median_high(list_x[:-1]))\n",
    "print(statistics.median_low(list_x[:-1]))\n",
    "\n",
    "print(sorted(list_x_nan))\n",
    "print(statistics.median(list_x_nan))\n",
    "print(statistics.median_high(list_x_nan))\n",
    "print(statistics.median_low(list_x_nan))\n",
    "\n",
    "print(sorted(list_x_nan[1:]))\n",
    "print(statistics.median(list_x_nan[1:]))\n",
    "print(statistics.median_high(list_x_nan[1:]))\n",
    "print(statistics.median_low(list_x_nan[1:]))\n",
    "\n",
    "np_median = np.median(list_x)\n",
    "print(\"Numpy median:\", np_median)\n",
    "print(\"Numpy median list_x[:-1]:\", np.median(list_x[:-1]))\n",
    "print(\"Numpy median list with NaN:\", np.median(list_x_nan))\n",
    "print(\"Numpy median list with NaN list_x_nan[1:]:\", np.median(list_x_nan[1:]))\n",
    "print(\"Numpy median list ignoring NaN:\", np.nanmedian(list_x_nan))\n",
    "print(\"Numpy median list ignoring NaN list_x_nan[1:]:\", np.nanmedian(list_x_nan[1:]))"
   ]
  },
  {
   "cell_type": "markdown",
   "metadata": {},
   "source": [
    "# Modus"
   ]
  },
  {
   "cell_type": "code",
   "execution_count": 16,
   "metadata": {},
   "outputs": [
    {
     "name": "stdout",
     "output_type": "stream",
     "text": [
      "List u: [2, 8, 3, 2, 12]\n",
      "List v: [12, 15, 21, 15, 12, 15, 12]\n"
     ]
    }
   ],
   "source": [
    "list_u = [2, 8, 3, 2, 12]\n",
    "list_v = [12, 15, 21, 15, 12, 15, 12]\n",
    "\n",
    "print(\"List u:\", list_u)\n",
    "print(\"List v:\", list_v)"
   ]
  },
  {
   "cell_type": "code",
   "execution_count": 17,
   "metadata": {},
   "outputs": [
    {
     "name": "stdout",
     "output_type": "stream",
     "text": [
      "Native mode u: 2\n",
      "Native mode v: 15\n",
      "Statistics mode u: 2\n",
      "Statistics mode v: 12\n",
      "Scipy mode u: ModeResult(mode=array([2]), count=array([2])) [2] [2]\n",
      "Scipy mode v: ModeResult(mode=array([12]), count=array([3])) [12] [3]\n",
      "0    2\n",
      "dtype: int64\n",
      "0    12\n",
      "1    15\n",
      "dtype: int64\n",
      "0    2.0\n",
      "dtype: float64\n",
      "0   NaN\n",
      "dtype: float64\n"
     ]
    }
   ],
   "source": [
    "native_mode_u = max((list_u.count(value), value) for value in set (list_u))[1]\n",
    "native_mode_v = max((list_v.count(value), value) for value in set (list_v))[1]\n",
    "\n",
    "print(\"Native mode u:\", native_mode_u)\n",
    "print(\"Native mode v:\", native_mode_v)\n",
    "\n",
    "stats_mode_u = statistics.mode(list_u)\n",
    "stats_mode_v = statistics.mode(list_v)\n",
    "print(\"Statistics mode u:\", stats_mode_u)\n",
    "print(\"Statistics mode v:\", stats_mode_v)\n",
    "\n",
    "scipy_mode_u = scipy.stats.mode(list_u)\n",
    "scipy_mode_v = scipy.stats.mode(list_v)\n",
    "print(\"Scipy mode u:\", scipy_mode_u, scipy_mode_u.mode, scipy_mode_u.count)\n",
    "print(\"Scipy mode v:\", scipy_mode_v, scipy_mode_v.mode, scipy_mode_v.count)\n",
    "\n",
    "series_u, series_v = pd.Series(list_u), pd.Series(list_v)\n",
    "print(series_u.mode())\n",
    "print(series_v.mode())\n",
    "\n",
    "series_w = pd.Series([2, 2, math.nan, math.nan, math.nan])\n",
    "print(series_w.mode())\n",
    "print(series_w.mode(dropna=False))"
   ]
  },
  {
   "cell_type": "markdown",
   "metadata": {},
   "source": [
    "# Variance"
   ]
  },
  {
   "cell_type": "code",
   "execution_count": 18,
   "metadata": {},
   "outputs": [
    {
     "name": "stdout",
     "output_type": "stream",
     "text": [
      "Native sample variance: 123.19999999999999\n",
      "Statistics sample variance: 123.2\n",
      "Statistics sample variance with nan: nan\n",
      "Numpy sample variance: 123.19999999999999\n",
      "Numpy sample variance with nan: nan\n",
      "Array sample variance: 123.19999999999999\n",
      "Array sample variance with nan: nan\n"
     ]
    }
   ],
   "source": [
    "n = len(list_x)\n",
    "avg = sum(list_x) / n\n",
    "\n",
    "native_variance = sum((value - avg)**2 for value in list_x) / (n-1)\n",
    "print(\"Native sample variance:\", native_variance)\n",
    "\n",
    "stats_variance = statistics.variance(list_x)\n",
    "print(\"Statistics sample variance:\", stats_variance)\n",
    "print(\"Statistics sample variance with nan:\", statistics.variance(list_x_nan))\n",
    "\n",
    "np_variance = np.var(list_x, ddof=1)\n",
    "print(\"Numpy sample variance:\", np_variance)\n",
    "print(\"Numpy sample variance with nan:\", np.var(list_x_nan, ddof=1))\n",
    "\n",
    "arr_variance = arr_x.var(ddof=1)\n",
    "print(\"Array sample variance:\", arr_variance)\n",
    "print(\"Array sample variance with nan:\", arr_x_nan.var(ddof=1))"
   ]
  },
  {
   "cell_type": "markdown",
   "metadata": {},
   "source": [
    "# Standard Deviation"
   ]
  },
  {
   "cell_type": "code",
   "execution_count": 19,
   "metadata": {},
   "outputs": [
    {
     "name": "stdout",
     "output_type": "stream",
     "text": [
      "Native sample std: 11.099549540409285\n",
      "Statistics sample std: 11.099549540409287\n",
      "Numpy sample std: 11.099549540409285\n",
      "Array sample std: 11.099549540409285\n"
     ]
    }
   ],
   "source": [
    "native_stdev = native_variance ** .5\n",
    "print(\"Native sample std:\", native_stdev)\n",
    "\n",
    "stats_stdev = statistics.stdev(list_x)\n",
    "print(\"Statistics sample std:\", stats_stdev)\n",
    "\n",
    "np_stdev = np.std(list_x, ddof=1)\n",
    "arr_stdev = arr_x.std(ddof=1)\n",
    "print(\"Numpy sample std:\", np_stdev)\n",
    "print(\"Array sample std:\", arr_stdev)"
   ]
  },
  {
   "cell_type": "markdown",
   "metadata": {},
   "source": [
    "# Skewness"
   ]
  },
  {
   "cell_type": "code",
   "execution_count": 22,
   "metadata": {},
   "outputs": [
    {
     "name": "stdout",
     "output_type": "stream",
     "text": [
      "List x: [8.0, 1, 2.5, 4, 28.0]\n",
      "Skewness: 1.9470432273905929\n"
     ]
    }
   ],
   "source": [
    "print(\"List x:\", list_x)\n",
    "n = len(list_x)\n",
    "avg = sum(list_x) / n\n",
    "var_ = sum((value - avg)**2 for value in list_x) / (n-1)\n",
    "stdev_ = var_ ** .5\n",
    "\n",
    "skewness_ = (sum((value - avg)**3 for value in list_x) * n / ((n - 1) * (n - 2) * stdev_**3))\n",
    "print(\"Skewness:\", skewness_)\n"
   ]
  },
  {
   "cell_type": "code",
   "execution_count": 23,
   "metadata": {},
   "outputs": [
    {
     "data": {
      "text/plain": [
       "1.9470432273905927"
      ]
     },
     "execution_count": 23,
     "metadata": {},
     "output_type": "execute_result"
    }
   ],
   "source": [
    "scipy.stats.skew(list_x, bias=False)"
   ]
  },
  {
   "cell_type": "code",
   "execution_count": 24,
   "metadata": {},
   "outputs": [
    {
     "data": {
      "text/plain": [
       "masked_array(data=1.94704323,\n",
       "             mask=False,\n",
       "       fill_value=1e+20)"
      ]
     },
     "execution_count": 24,
     "metadata": {},
     "output_type": "execute_result"
    }
   ],
   "source": [
    "scipy.stats.skew(list_x_nan, bias=False, nan_policy=\"omit\")"
   ]
  },
  {
   "cell_type": "code",
   "execution_count": 25,
   "metadata": {},
   "outputs": [
    {
     "data": {
      "text/plain": [
       "1.9470432273905924"
      ]
     },
     "execution_count": 25,
     "metadata": {},
     "output_type": "execute_result"
    }
   ],
   "source": [
    "series_x.skew()"
   ]
  },
  {
   "cell_type": "markdown",
   "metadata": {},
   "source": [
    "# Percentiles"
   ]
  },
  {
   "cell_type": "code",
   "execution_count": 26,
   "metadata": {},
   "outputs": [
    {
     "name": "stdout",
     "output_type": "stream",
     "text": [
      "[ 8.   1.   2.5  4.  28. ]\n",
      "25th percentile: 2.5\n",
      "50th percentile: 4.0\n",
      "75th percentile: 8.0\n",
      "Quartiles: [2.5 4.  8. ]\n"
     ]
    }
   ],
   "source": [
    "print(arr_x)\n",
    "percentile_50 = np.percentile(arr_x, 50)\n",
    "percentile_25 = np.percentile(arr_x, 25)\n",
    "percentile_75 = np.percentile(arr_x, 75)\n",
    "print(\"25th percentile:\", percentile_25)\n",
    "print(\"50th percentile:\", percentile_50)\n",
    "print(\"75th percentile:\", percentile_75)\n",
    "\n",
    "print(\"Quartiles:\", np.percentile(arr_x, [25, 50, 75]))"
   ]
  },
  {
   "cell_type": "code",
   "execution_count": 27,
   "metadata": {},
   "outputs": [
    {
     "data": {
      "text/plain": [
       "0.25    2.5\n",
       "0.50    4.0\n",
       "0.75    8.0\n",
       "dtype: float64"
      ]
     },
     "execution_count": 27,
     "metadata": {},
     "output_type": "execute_result"
    }
   ],
   "source": [
    "series_x.quantile([.25, .5, .75])"
   ]
  },
  {
   "cell_type": "code",
   "execution_count": 28,
   "metadata": {},
   "outputs": [
    {
     "data": {
      "text/plain": [
       "0.25    2.5\n",
       "0.50    4.0\n",
       "0.75    8.0\n",
       "dtype: float64"
      ]
     },
     "execution_count": 28,
     "metadata": {},
     "output_type": "execute_result"
    }
   ],
   "source": [
    "series_x_nan.quantile([.25, .5, .75])"
   ]
  },
  {
   "cell_type": "markdown",
   "metadata": {},
   "source": [
    "# Range"
   ]
  },
  {
   "cell_type": "code",
   "execution_count": 29,
   "metadata": {},
   "outputs": [
    {
     "name": "stdout",
     "output_type": "stream",
     "text": [
      "List x: [8.0, 1, 2.5, 4, 28.0]\n",
      "27.0\n",
      "List x with nan: [8.0, 1, 2.5, nan, 4, 28.0]\n",
      "nan\n"
     ]
    }
   ],
   "source": [
    "print(\"List x:\", list_x)\n",
    "print(np.ptp(list_x))\n",
    "\n",
    "print(\"List x with nan:\", list_x_nan)\n",
    "print(np.ptp(list_x_nan))"
   ]
  },
  {
   "cell_type": "code",
   "execution_count": 30,
   "metadata": {},
   "outputs": [
    {
     "data": {
      "text/plain": [
       "27.0"
      ]
     },
     "execution_count": 30,
     "metadata": {},
     "output_type": "execute_result"
    }
   ],
   "source": [
    "np.nanmax(list_x_nan) - np.nanmin(list_x_nan)"
   ]
  },
  {
   "cell_type": "code",
   "execution_count": 31,
   "metadata": {},
   "outputs": [
    {
     "name": "stdout",
     "output_type": "stream",
     "text": [
      "27.0\n",
      "27.0\n"
     ]
    }
   ],
   "source": [
    "print(series_x.max() - series_x.min())\n",
    "print(series_x_nan.max() - series_x_nan.min())"
   ]
  },
  {
   "cell_type": "markdown",
   "metadata": {},
   "source": [
    "# Interquartile Range"
   ]
  },
  {
   "cell_type": "code",
   "execution_count": 32,
   "metadata": {},
   "outputs": [
    {
     "name": "stdout",
     "output_type": "stream",
     "text": [
      "[2.5 4.  8. ]\n",
      "IQR: 5.5\n"
     ]
    }
   ],
   "source": [
    "np_quartiles = np.quantile(list_x, [.25, .5, .75])\n",
    "print(np_quartiles)\n",
    "\n",
    "np_iqr = np_quartiles[-1] - np_quartiles[0]\n",
    "print(\"IQR:\", np_iqr)"
   ]
  },
  {
   "cell_type": "markdown",
   "metadata": {},
   "source": [
    "# Covariance"
   ]
  },
  {
   "cell_type": "code",
   "execution_count": 33,
   "metadata": {},
   "outputs": [
    {
     "name": "stdout",
     "output_type": "stream",
     "text": [
      "21 21\n"
     ]
    }
   ],
   "source": [
    "list_a = list(range(-10, 11))\n",
    "list_b = [0, 2, 2, 2, 2, 3, 3, 6, 7, 4, 7, 6, 6, 9, 4, 5, 5, 10, 11, 12, 14]\n",
    "print(len(list_a), len(list_b))"
   ]
  },
  {
   "cell_type": "code",
   "execution_count": 34,
   "metadata": {},
   "outputs": [
    {
     "name": "stdout",
     "output_type": "stream",
     "text": [
      "0.0 5.714285714285714\n",
      "42.142857142857146\n"
     ]
    }
   ],
   "source": [
    "mean_a, mean_b = sum(list_a)/len(list_a), sum(list_b)/len(list_b)\n",
    "print(mean_a, mean_b)\n",
    "\n",
    "# sigma_a, sigma_y = np.array([x-mean_a for x in list_a]), np.array([y-mean_b for y in list_b])\n",
    "\n",
    "#cov_ab = (sigma_a*sigma_b).sum() / n-1\n",
    "cov_ab = (sum((list_a[idx] - mean_a)*(list_b[idx] - mean_b) for idx in range(n)) / (n-1))\n",
    "cov_ab = (sum((list_a[idx] - mean_a)*(list_b[idx] - mean_b) for idx in range(n)) / (n - 1))\n",
    "print(cov_ab)\n",
    "\n"
   ]
  },
  {
   "cell_type": "code",
   "execution_count": 35,
   "metadata": {},
   "outputs": [
    {
     "data": {
      "text/plain": [
       "array([[38.5       , 19.95      ],\n",
       "       [19.95      , 13.91428571]])"
      ]
     },
     "execution_count": 35,
     "metadata": {},
     "output_type": "execute_result"
    }
   ],
   "source": [
    "np.cov(list_a, list_b)"
   ]
  },
  {
   "cell_type": "markdown",
   "metadata": {},
   "source": [
    "# Correlation"
   ]
  },
  {
   "cell_type": "code",
   "execution_count": 36,
   "metadata": {},
   "outputs": [
    {
     "name": "stdout",
     "output_type": "stream",
     "text": [
      "[-10, -9, -8, -7, -6, -5, -4, -3, -2, -1, 0, 1, 2, 3, 4, 5, 6, 7, 8, 9, 10]\n",
      "[0, 2, 2, 2, 2, 3, 3, 6, 7, 4, 7, 6, 6, 9, 4, 5, 5, 10, 11, 12, 14]\n"
     ]
    }
   ],
   "source": [
    "print(list_a)\n",
    "print(list_b)\n",
    "\n",
    "r, p = scipy.stats.pearsonr(list_a, list_b)"
   ]
  },
  {
   "cell_type": "code",
   "execution_count": 37,
   "metadata": {},
   "outputs": [
    {
     "data": {
      "text/plain": [
       "array([[1.        , 0.86195001],\n",
       "       [0.86195001, 1.        ]])"
      ]
     },
     "execution_count": 37,
     "metadata": {},
     "output_type": "execute_result"
    }
   ],
   "source": [
    "np.corrcoef(list_a, list_b)"
   ]
  },
  {
   "cell_type": "code",
   "execution_count": null,
   "metadata": {},
   "outputs": [],
   "source": []
  }
 ],
 "metadata": {
  "kernelspec": {
   "display_name": "Python 3",
   "language": "python",
   "name": "python3"
  },
  "language_info": {
   "codemirror_mode": {
    "name": "ipython",
    "version": 3
   },
   "file_extension": ".py",
   "mimetype": "text/x-python",
   "name": "python",
   "nbconvert_exporter": "python",
   "pygments_lexer": "ipython3",
   "version": "3.8.5"
  }
 },
 "nbformat": 4,
 "nbformat_minor": 4
}

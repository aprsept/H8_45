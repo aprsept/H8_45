{
 "cells": [
  {
   "cell_type": "code",
   "execution_count": 94,
   "metadata": {},
   "outputs": [],
   "source": [
    "import matplotlib.pyplot as plt\n",
    "import numpy as np\n",
    "\n",
    "from sklearn.linear_model import LogisticRegression\n",
    "from sklearn.metrics import classification_report, confusion_matrix\n",
    "from sklearn.datasets import load_digits\n",
    "from sklearn.model_selection import train_test_split\n",
    "from sklearn.preprocessing import StandardScaler\n",
    "from sklearn.datasets import load_wine\n",
    "from sklearn.neighbors import KNeighborsClassifier"
   ]
  },
  {
   "cell_type": "markdown",
   "metadata": {},
   "source": [
    "# Logistic Regression"
   ]
  },
  {
   "cell_type": "code",
   "execution_count": 5,
   "metadata": {},
   "outputs": [
    {
     "name": "stdout",
     "output_type": "stream",
     "text": [
      "[[0]\n",
      " [1]\n",
      " [2]\n",
      " [3]\n",
      " [4]\n",
      " [5]\n",
      " [6]\n",
      " [7]\n",
      " [8]\n",
      " [9]] shape: (10, 1)\n",
      "[0 0 0 0 1 1 1 1 1 1] shape: (10,)\n"
     ]
    }
   ],
   "source": [
    "x = np.arange(10).reshape(-1, 1)\n",
    "y = np.array([0, 0, 0, 0, 1, 1, 1, 1, 1, 1])\n",
    "\n",
    "print(x, \"shape:\", x.shape)\n",
    "print(y, \"shape:\", y.shape)"
   ]
  },
  {
   "cell_type": "code",
   "execution_count": 9,
   "metadata": {},
   "outputs": [],
   "source": [
    "model = LogisticRegression(solver=\"liblinear\", random_state=0)\n",
    "\n",
    "model.fit(x, y)\n",
    "\n",
    "prediction =  model.predict(x)"
   ]
  },
  {
   "cell_type": "code",
   "execution_count": 10,
   "metadata": {},
   "outputs": [
    {
     "name": "stdout",
     "output_type": "stream",
     "text": [
      "List of classess: [0 1]\n"
     ]
    }
   ],
   "source": [
    "print(\"List of classess:\", model.classes_)"
   ]
  },
  {
   "cell_type": "code",
   "execution_count": 11,
   "metadata": {},
   "outputs": [
    {
     "name": "stdout",
     "output_type": "stream",
     "text": [
      "Intercept: [-1.04608067]\n",
      "Coefficients: [[0.51491375]]\n"
     ]
    }
   ],
   "source": [
    "print(\"Intercept:\", model.intercept_)\n",
    "print(\"Coefficients:\", model.coef_)"
   ]
  },
  {
   "cell_type": "code",
   "execution_count": 12,
   "metadata": {},
   "outputs": [
    {
     "name": "stdout",
     "output_type": "stream",
     "text": [
      "label:\n",
      "[0 0 0 0 1 1 1 1 1 1]\n",
      "prediction:\n",
      "[0 0 0 1 1 1 1 1 1 1]\n"
     ]
    }
   ],
   "source": [
    "print(\"label:\", y, sep=\"\\n\")\n",
    "print(\"prediction:\", prediction, sep=\"\\n\")"
   ]
  },
  {
   "cell_type": "code",
   "execution_count": 14,
   "metadata": {},
   "outputs": [
    {
     "data": {
      "text/plain": [
       "array([[0.74002157, 0.25997843],\n",
       "       [0.62975524, 0.37024476],\n",
       "       [0.5040632 , 0.4959368 ],\n",
       "       [0.37785549, 0.62214451],\n",
       "       [0.26628093, 0.73371907],\n",
       "       [0.17821501, 0.82178499],\n",
       "       [0.11472079, 0.88527921],\n",
       "       [0.07186982, 0.92813018],\n",
       "       [0.04422513, 0.95577487],\n",
       "       [0.02690569, 0.97309431]])"
      ]
     },
     "execution_count": 14,
     "metadata": {},
     "output_type": "execute_result"
    }
   ],
   "source": [
    "model.predict_proba(x)"
   ]
  },
  {
   "cell_type": "code",
   "execution_count": 15,
   "metadata": {},
   "outputs": [
    {
     "data": {
      "text/plain": [
       "array([[-0.53116692]])"
      ]
     },
     "execution_count": 15,
     "metadata": {},
     "output_type": "execute_result"
    }
   ],
   "source": [
    "(1*model.coef_ + model.intercept_)"
   ]
  },
  {
   "cell_type": "code",
   "execution_count": 16,
   "metadata": {},
   "outputs": [
    {
     "name": "stdout",
     "output_type": "stream",
     "text": [
      "accuracy score: 0.9\n"
     ]
    }
   ],
   "source": [
    "acc_score = model.score(x, y)\n",
    "print(\"accuracy score:\", acc_score)"
   ]
  },
  {
   "cell_type": "code",
   "execution_count": 21,
   "metadata": {},
   "outputs": [],
   "source": [
    "cm = confusion_matrix(y, prediction)"
   ]
  },
  {
   "cell_type": "code",
   "execution_count": 25,
   "metadata": {},
   "outputs": [
    {
     "data": {
      "image/png": "[encoded data removed]",
      "text/plain": [
       "<Figure size 576x576 with 1 Axes>"
      ]
     },
     "metadata": {
      "needs_background": "light"
     },
     "output_type": "display_data"
    }
   ],
   "source": [
    "fig, ax = plt.subplots(figsize=(8, 8))\n",
    "ax.imshow(cm)\n",
    "ax.grid(False)\n",
    "ax.xaxis.set(ticks=(0, 1), ticklabels=(\"Predicted 0s\", \"Predicted 1s\"))\n",
    "ax.yaxis.set(ticks=(0, 1), ticklabels=(\"Actual 0s\", \"Actual 1s\"))\n",
    "ax.set_ylim(1.5, -0.5)\n",
    "for i in range(2):\n",
    "    for j in range(2):\n",
    "        ax.text(j, i, cm[i, j], ha=\"center\", va=\"center\", color=\"Tomato\")\n",
    "plt.show()"
   ]
  },
  {
   "cell_type": "code",
   "execution_count": 28,
   "metadata": {},
   "outputs": [
    {
     "name": "stdout",
     "output_type": "stream",
     "text": [
      "              precision    recall  f1-score   support\n",
      "\n",
      "       False       1.00      0.75      0.86         4\n",
      "        True       0.86      1.00      0.92         6\n",
      "\n",
      "    accuracy                           0.90        10\n",
      "   macro avg       0.93      0.88      0.89        10\n",
      "weighted avg       0.91      0.90      0.90        10\n",
      "\n"
     ]
    }
   ],
   "source": [
    "print(classification_report(y, prediction, target_names=[\"False\", \"True\"]))"
   ]
  },
  {
   "cell_type": "markdown",
   "metadata": {},
   "source": [
    "Accuracy -> (TP + TN) / (TP + TN + FP +FN)\n",
    "\n",
    "\n",
    "Precision -> **dari yg diprediksi positif, brp banyak yg sebenarnya positif**\n",
    "> TP / (TP + FP)\n",
    "\n",
    "\n",
    "Recall -> **dr yg sebenarnya positif, brp banyak yg berhasil diprediksi oleh model sbg positif**\n",
    "> (TP + FN) / TP\n",
    "\n",
    "\n"
   ]
  },
  {
   "cell_type": "markdown",
   "metadata": {},
   "source": [
    "# Handwriting Recognition"
   ]
  },
  {
   "cell_type": "code",
   "execution_count": 62,
   "metadata": {},
   "outputs": [],
   "source": [
    "x, y = load_digits(return_X_y=True)"
   ]
  },
  {
   "cell_type": "code",
   "execution_count": 63,
   "metadata": {},
   "outputs": [
    {
     "name": "stdout",
     "output_type": "stream",
     "text": [
      "Dataset shape: (1797, 64)\n",
      "Target shape: (1797,)\n"
     ]
    }
   ],
   "source": [
    "print(\"Dataset shape:\", x.shape)\n",
    "print(\"Target shape:\", y.shape)"
   ]
  },
  {
   "cell_type": "code",
   "execution_count": 64,
   "metadata": {},
   "outputs": [
    {
     "name": "stdout",
     "output_type": "stream",
     "text": [
      "Sample image:\n",
      "[ 0.  0.  5. 13.  9.  1.  0.  0.  0.  0. 13. 15. 10. 15.  5.  0.  0.  3.\n",
      " 15.  2.  0. 11.  8.  0.  0.  4. 12.  0.  0.  8.  8.  0.  0.  5.  8.  0.\n",
      "  0.  9.  8.  0.  0.  4. 11.  0.  1. 12.  7.  0.  0.  2. 14.  5. 10. 12.\n",
      "  0.  0.  0.  0.  6. 13. 10.  0.  0.  0.]\n"
     ]
    }
   ],
   "source": [
    "print(\"Sample image:\")\n",
    "print(x[0])"
   ]
  },
  {
   "cell_type": "code",
   "execution_count": 65,
   "metadata": {},
   "outputs": [
    {
     "data": {
      "text/plain": [
       "array([[ 0.,  0.,  5., 13.,  9.,  1.,  0.,  0.],\n",
       "       [ 0.,  0., 13., 15., 10., 15.,  5.,  0.],\n",
       "       [ 0.,  3., 15.,  2.,  0., 11.,  8.,  0.],\n",
       "       [ 0.,  4., 12.,  0.,  0.,  8.,  8.,  0.],\n",
       "       [ 0.,  5.,  8.,  0.,  0.,  9.,  8.,  0.],\n",
       "       [ 0.,  4., 11.,  0.,  1., 12.,  7.,  0.],\n",
       "       [ 0.,  2., 14.,  5., 10., 12.,  0.,  0.],\n",
       "       [ 0.,  0.,  6., 13., 10.,  0.,  0.,  0.]])"
      ]
     },
     "execution_count": 65,
     "metadata": {},
     "output_type": "execute_result"
    }
   ],
   "source": [
    "images = x.reshape(-1, 8, 8)\n",
    "images[0]"
   ]
  },
  {
   "cell_type": "code",
   "execution_count": 66,
   "metadata": {},
   "outputs": [
    {
     "data": {
      "image/png": "[encoded data removed]",
      "text/plain": [
       "<Figure size 432x288 with 1 Axes>"
      ]
     },
     "metadata": {
      "needs_background": "light"
     },
     "output_type": "display_data"
    }
   ],
   "source": [
    "sample = np.random.randint(len(images))\n",
    "plt.imshow(images[100], cmap=plt.cm.gray_r)\n",
    "plt.title(f\"Label: {y[sample]}\")\n",
    "plt.show()"
   ]
  },
  {
   "cell_type": "code",
   "execution_count": 32,
   "metadata": {},
   "outputs": [],
   "source": [
    "x_train, x_test, y_train, y_test = train_test_split(x, y, test_size=0.2, random_state=0)"
   ]
  },
  {
   "cell_type": "code",
   "execution_count": 33,
   "metadata": {},
   "outputs": [],
   "source": [
    "scaler = StandardScaler()\n",
    "x_train = scaler.fit_transform(x_train)"
   ]
  },
  {
   "cell_type": "code",
   "execution_count": 45,
   "metadata": {},
   "outputs": [
    {
     "data": {
      "text/plain": [
       "LogisticRegression(C=0.5, multi_class='ovr', random_state=0, solver='liblinear')"
      ]
     },
     "execution_count": 45,
     "metadata": {},
     "output_type": "execute_result"
    }
   ],
   "source": [
    "model = LogisticRegression(solver=\"liblinear\", C=0.5,\n",
    "multi_class=\"ovr\",\n",
    "                          random_state=0)\n",
    "model.fit(x_train, y_train)"
   ]
  },
  {
   "cell_type": "code",
   "execution_count": 46,
   "metadata": {},
   "outputs": [
    {
     "data": {
      "text/plain": [
       "LogisticRegression(C=0.05, multi_class='ovr', random_state=0,\n",
       "                   solver='liblinear')"
      ]
     },
     "execution_count": 46,
     "metadata": {},
     "output_type": "execute_result"
    }
   ],
   "source": [
    "LogisticRegression(C=0.05, class_weight=None, dual=False,\n",
    "fit_intercept=True,\n",
    "                  intercept_scaling=1, l1_ratio=None, max_iter=100,\n",
    "                  multi_class=\"ovr\", n_jobs=None, penalty=\"l2\",\n",
    "random_state=0, \n",
    "                   solver=\"liblinear\", tol=0.0001, verbose=0,\n",
    "warm_start=False)"
   ]
  },
  {
   "cell_type": "code",
   "execution_count": 47,
   "metadata": {},
   "outputs": [],
   "source": [
    "x_test = scaler.transform(x_test)"
   ]
  },
  {
   "cell_type": "code",
   "execution_count": 57,
   "metadata": {},
   "outputs": [],
   "source": [
    "y_pred_test = model.predict(x_test)\n",
    "y_pred_train = model.predict(x_train)"
   ]
  },
  {
   "cell_type": "code",
   "execution_count": 50,
   "metadata": {},
   "outputs": [
    {
     "data": {
      "text/plain": [
       "0.9819067501739736"
      ]
     },
     "execution_count": 50,
     "metadata": {},
     "output_type": "execute_result"
    }
   ],
   "source": [
    "model.score(x_train, y_train)"
   ]
  },
  {
   "cell_type": "code",
   "execution_count": 51,
   "metadata": {},
   "outputs": [
    {
     "data": {
      "text/plain": [
       "0.9555555555555556"
      ]
     },
     "execution_count": 51,
     "metadata": {},
     "output_type": "execute_result"
    }
   ],
   "source": [
    "model.score(x_test, y_test)"
   ]
  },
  {
   "cell_type": "code",
   "execution_count": 58,
   "metadata": {},
   "outputs": [],
   "source": [
    "cm = confusion_matrix(y_test, y_pred_test)"
   ]
  },
  {
   "cell_type": "code",
   "execution_count": 59,
   "metadata": {},
   "outputs": [
    {
     "data": {
      "image/png": "[encoded data removed]",
      "text/plain": [
       "<Figure size 576x576 with 1 Axes>"
      ]
     },
     "metadata": {
      "needs_background": "light"
     },
     "output_type": "display_data"
    }
   ],
   "source": [
    "fig, ax = plt.subplots(figsize=(8, 8))\n",
    "ax.imshow(cm)\n",
    "ax.grid(False)\n",
    "ax.set_xlabel(\"Predicted outputs\", color=\"black\")\n",
    "ax.set_ylabel(\"Actual outputs\", color=\"black\")\n",
    "ax.xaxis.set(ticks=range(10))\n",
    "ax.yaxis.set(ticks=range(10))\n",
    "ax.set_ylim(9.5, -0.5)\n",
    "for i in range(10):\n",
    "    for j in range(10):\n",
    "        ax.text(j, i, cm[i, j], ha=\"center\", va=\"center\", color=\"white\")\n",
    "plt.show()"
   ]
  },
  {
   "cell_type": "code",
   "execution_count": 60,
   "metadata": {},
   "outputs": [
    {
     "name": "stdout",
     "output_type": "stream",
     "text": [
      "              precision    recall  f1-score   support\n",
      "\n",
      "           0       1.00      1.00      1.00        27\n",
      "           1       0.87      0.94      0.90        35\n",
      "           2       0.97      0.97      0.97        36\n",
      "           3       0.94      1.00      0.97        29\n",
      "           4       1.00      0.97      0.98        30\n",
      "           5       0.95      0.97      0.96        40\n",
      "           6       0.98      0.98      0.98        44\n",
      "           7       0.93      1.00      0.96        39\n",
      "           8       0.94      0.87      0.91        39\n",
      "           9       1.00      0.88      0.94        41\n",
      "\n",
      "    accuracy                           0.96       360\n",
      "   macro avg       0.96      0.96      0.96       360\n",
      "weighted avg       0.96      0.96      0.96       360\n",
      "\n",
      "              precision    recall  f1-score   support\n",
      "\n",
      "           0       1.00      1.00      1.00       151\n",
      "           1       0.94      0.99      0.97       147\n",
      "           2       1.00      1.00      1.00       141\n",
      "           3       0.99      0.99      0.99       154\n",
      "           4       0.99      0.99      0.99       151\n",
      "           5       0.99      1.00      1.00       142\n",
      "           6       0.99      0.98      0.98       137\n",
      "           7       0.99      0.99      0.99       140\n",
      "           8       0.95      0.90      0.93       135\n",
      "           9       0.97      0.97      0.97       139\n",
      "\n",
      "    accuracy                           0.98      1437\n",
      "   macro avg       0.98      0.98      0.98      1437\n",
      "weighted avg       0.98      0.98      0.98      1437\n",
      "\n"
     ]
    }
   ],
   "source": [
    "print(classification_report(y_test, y_pred_test))\n",
    "print(classification_report(y_train, y_pred_train))"
   ]
  },
  {
   "cell_type": "code",
   "execution_count": 68,
   "metadata": {},
   "outputs": [
    {
     "data": {
      "image/png": "[encoded data removed]",
      "text/plain": [
       "<Figure size 432x288 with 1 Axes>"
      ]
     },
     "metadata": {
      "needs_background": "light"
     },
     "output_type": "display_data"
    }
   ],
   "source": [
    "sample = np.random.randint(len(images))\n",
    "prediction = model.predict(scaler.transform(x[sample].reshape(1, -1)))\n",
    "plt.imshow(images[sample], cmap=plt.cm.gray_r)\n",
    "plt.title(f\"Label: {y[sample]}.. Prediction: {prediction[0]}\")\n",
    "plt.show()"
   ]
  },
  {
   "cell_type": "code",
   "execution_count": 73,
   "metadata": {},
   "outputs": [
    {
     "data": {
      "image/png": "[encoded data removed]",
      "text/plain": [
       "<Figure size 432x288 with 1 Axes>"
      ]
     },
     "metadata": {
      "needs_background": "light"
     },
     "output_type": "display_data"
    }
   ],
   "source": [
    "misclassified = np.where(y_test != y_pred_test)[0]\n",
    "sample = np.random.randint(len(misclassified))\n",
    "prediction = model.predict(scaler.transform(x_test[misclassified[0]].reshape(1, -1)))\n",
    "plt.imshow(images[sample], cmap=plt.cm.gray_r)\n",
    "plt.title(f\"Label: {y_test[sample]}.. Prediction: {prediction[0]}\")\n",
    "plt.show()"
   ]
  },
  {
   "cell_type": "markdown",
   "metadata": {},
   "source": [
    "# K-Nearest Neighbor (KNN)"
   ]
  },
  {
   "cell_type": "code",
   "execution_count": 78,
   "metadata": {},
   "outputs": [],
   "source": [
    "wine = load_wine()"
   ]
  },
  {
   "cell_type": "code",
   "execution_count": 80,
   "metadata": {},
   "outputs": [
    {
     "name": "stdout",
     "output_type": "stream",
     "text": [
      "Feature names: ['alcohol', 'malic_acid', 'ash', 'alcalinity_of_ash', 'magnesium', 'total_phenols', 'flavanoids', 'nonflavanoid_phenols', 'proanthocyanins', 'color_intensity', 'hue', 'od280/od315_of_diluted_wines', 'proline']\n",
      "Target names: ['class_0' 'class_1' 'class_2']\n"
     ]
    }
   ],
   "source": [
    "feature_names = wine.feature_names\n",
    "target_names = wine.target_names\n",
    "\n",
    "print(\"Feature names:\", feature_names)\n",
    "print(\"Target names:\", target_names)"
   ]
  },
  {
   "cell_type": "code",
   "execution_count": 81,
   "metadata": {},
   "outputs": [
    {
     "name": "stdout",
     "output_type": "stream",
     "text": [
      "Data shape: (178, 13)\n",
      "Target shape: (178,)\n"
     ]
    }
   ],
   "source": [
    "print(\"Data shape:\", wine.data.shape)\n",
    "print(\"Target shape:\", wine.target.shape)"
   ]
  },
  {
   "cell_type": "code",
   "execution_count": 86,
   "metadata": {},
   "outputs": [
    {
     "name": "stdout",
     "output_type": "stream",
     "text": [
      "Training with: 124.. Validating with: 54\n"
     ]
    }
   ],
   "source": [
    "x_train, x_test, y_train, y_test = train_test_split(wine.data, wine.target, test_size=.3, random_state=0)\n",
    "print(f\"Training with: {len(x_train)}.. Validating with: {len(x_test)}\")"
   ]
  },
  {
   "cell_type": "code",
   "execution_count": 87,
   "metadata": {},
   "outputs": [
    {
     "data": {
      "text/plain": [
       "(array([1.371e+01, 1.860e+00, 2.360e+00, 1.660e+01, 1.010e+02, 2.610e+00,\n",
       "        2.880e+00, 2.700e-01, 1.690e+00, 3.800e+00, 1.110e+00, 4.000e+00,\n",
       "        1.035e+03]),\n",
       " array([1.374e+01, 1.670e+00, 2.250e+00, 1.640e+01, 1.180e+02, 2.600e+00,\n",
       "        2.900e+00, 2.100e-01, 1.620e+00, 5.850e+00, 9.200e-01, 3.200e+00,\n",
       "        1.060e+03]))"
      ]
     },
     "execution_count": 87,
     "metadata": {},
     "output_type": "execute_result"
    }
   ],
   "source": [
    "x_train[0], x_test[0]"
   ]
  },
  {
   "cell_type": "code",
   "execution_count": 95,
   "metadata": {},
   "outputs": [
    {
     "name": "stdout",
     "output_type": "stream",
     "text": [
      "Training performance:\n",
      "              precision    recall  f1-score   support\n",
      "\n",
      "     class_0       0.89      0.97      0.93        40\n",
      "     class_1       0.80      0.67      0.73        49\n",
      "     class_2       0.67      0.74      0.70        35\n",
      "\n",
      "    accuracy                           0.79       124\n",
      "   macro avg       0.79      0.80      0.79       124\n",
      "weighted avg       0.79      0.79      0.79       124\n",
      "\n",
      "Testing performance:\n",
      "              precision    recall  f1-score   support\n",
      "\n",
      "     class_0       0.89      0.84      0.86        19\n",
      "     class_1       0.81      0.77      0.79        22\n",
      "     class_2       0.60      0.69      0.64        13\n",
      "\n",
      "    accuracy                           0.78        54\n",
      "   macro avg       0.77      0.77      0.77        54\n",
      "weighted avg       0.79      0.78      0.78        54\n",
      "\n"
     ]
    }
   ],
   "source": [
    "# define kNN model\n",
    "knn = KNeighborsClassifier(n_neighbors=7)\n",
    "\n",
    "# train kNN -> store data and label\n",
    "knn.fit(x_train, y_train)\n",
    "\n",
    "# predict\n",
    "train_pred = knn.predict(x_train)\n",
    "test_pred = knn.predict(x_test)\n",
    "\n",
    "# classification report\n",
    "print(\"Training performance:\",\n",
    "     classification_report(y_train, train_pred, target_names=target_names), sep=\"\\n\")\n",
    "\n",
    "print(\"Testing performance:\",\n",
    "     classification_report(y_test, test_pred, target_names=target_names), sep=\"\\n\")"
   ]
  },
  {
   "cell_type": "code",
   "execution_count": 96,
   "metadata": {},
   "outputs": [
    {
     "name": "stdout",
     "output_type": "stream",
     "text": [
      "[0.24074074074074073, 0.3333333333333333, 0.2962962962962963, 0.24074074074074073, 0.2777777777777778, 0.2777777777777778, 0.2222222222222222, 0.35185185185185186, 0.2777777777777778, 0.2962962962962963, 0.2962962962962963, 0.2777777777777778, 0.2777777777777778, 0.2777777777777778, 0.25925925925925924, 0.25925925925925924, 0.25925925925925924, 0.2777777777777778, 0.25925925925925924, 0.3148148148148148, 0.2777777777777778, 0.24074074074074073, 0.2222222222222222, 0.25925925925925924, 0.24074074074074073, 0.25925925925925924, 0.24074074074074073, 0.24074074074074073, 0.24074074074074073, 0.2962962962962963, 0.25925925925925924, 0.2777777777777778, 0.25925925925925924, 0.25925925925925924, 0.25925925925925924, 0.25925925925925924, 0.25925925925925924, 0.25925925925925924, 0.25925925925925924]\n"
     ]
    }
   ],
   "source": [
    "error = []\n",
    "\n",
    "for k in range(1, 40):\n",
    "    knn = KNeighborsClassifier(n_neighbors=k)\n",
    "    knn.fit(x_train, y_train)\n",
    "    prediction = knn.predict(x_test)\n",
    "    error.append(np.mean(prediction != y_test))\n",
    "    \n",
    "print(error)"
   ]
  },
  {
   "cell_type": "code",
   "execution_count": 103,
   "metadata": {},
   "outputs": [
    {
     "data": {
      "text/plain": [
       "Text(0, 0.5, 'Mean of error')"
      ]
     },
     "execution_count": 103,
     "metadata": {},
     "output_type": "execute_result"
    },
    {
     "data": {
      "image/png": "[encoded data removed]",
      "text/plain": [
       "<Figure size 864x432 with 1 Axes>"
      ]
     },
     "metadata": {
      "needs_background": "light"
     },
     "output_type": "display_data"
    }
   ],
   "source": [
    "plt.figure(figsize=(12, 6))\n",
    "plt.plot(range(1, 40), error, color=\"steelblue\", linestyle=\"dashed\", marker=\"o\", markersize=10, mec=\"indianred\", mfc=\"indianred\")\n",
    "plt.title(\"Error Rate for each k\")\n",
    "plt.xlabel(\"K\")\n",
    "plt.xticks(range(1, 40))\n",
    "plt.ylabel(\"Mean of error\")"
   ]
  },
  {
   "cell_type": "code",
   "execution_count": 104,
   "metadata": {},
   "outputs": [
    {
     "name": "stdout",
     "output_type": "stream",
     "text": [
      "Training performance:\n",
      "              precision    recall  f1-score   support\n",
      "\n",
      "     class_0       0.85      0.88      0.86        40\n",
      "     class_1       0.82      0.57      0.67        49\n",
      "     class_2       0.53      0.74      0.62        35\n",
      "\n",
      "    accuracy                           0.72       124\n",
      "   macro avg       0.74      0.73      0.72       124\n",
      "weighted avg       0.75      0.72      0.72       124\n",
      "\n",
      "Testing performance:\n",
      "              precision    recall  f1-score   support\n",
      "\n",
      "     class_0       0.89      0.89      0.89        19\n",
      "     class_1       0.88      0.68      0.77        22\n",
      "     class_2       0.56      0.77      0.65        13\n",
      "\n",
      "    accuracy                           0.78        54\n",
      "   macro avg       0.78      0.78      0.77        54\n",
      "weighted avg       0.81      0.78      0.78        54\n",
      "\n"
     ]
    }
   ],
   "source": [
    "# define kNN model\n",
    "knn = KNeighborsClassifier(n_neighbors=23)\n",
    "\n",
    "# train kNN -> store data and label\n",
    "knn.fit(x_train, y_train)\n",
    "\n",
    "# predict\n",
    "train_pred = knn.predict(x_train)\n",
    "test_pred = knn.predict(x_test)\n",
    "\n",
    "# classification report\n",
    "print(\"Training performance:\",\n",
    "     classification_report(y_train, train_pred, target_names=target_names), sep=\"\\n\")\n",
    "\n",
    "print(\"Testing performance:\",\n",
    "     classification_report(y_test, test_pred, target_names=target_names), sep=\"\\n\")"
   ]
  },
  {
   "cell_type": "code",
   "execution_count": null,
   "metadata": {},
   "outputs": [],
   "source": []
  }
 ],
 "metadata": {
  "kernelspec": {
   "display_name": "Python 3",
   "language": "python",
   "name": "python3"
  },
  "language_info": {
   "codemirror_mode": {
    "name": "ipython",
    "version": 3
   },
   "file_extension": ".py",
   "mimetype": "text/x-python",
   "name": "python",
   "nbconvert_exporter": "python",
   "pygments_lexer": "ipython3",
   "version": "3.8.5"
  }
 },
 "nbformat": 4,
 "nbformat_minor": 4
}

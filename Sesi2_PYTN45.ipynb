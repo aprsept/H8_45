{
 "cells": [
  {
   "cell_type": "markdown",
   "metadata": {},
   "source": [
    "# List\n",
    "\n",
    "-mutable sequence: bisa diubah datanya, umumnya utk tipe data yg sama"
   ]
  },
  {
   "cell_type": "code",
   "execution_count": 1,
   "metadata": {},
   "outputs": [
    {
     "name": "stdout",
     "output_type": "stream",
     "text": [
      "[1, 2, 3]\n",
      "['python', 'intro']\n",
      "[1, 1.1, 'intro', True]\n",
      "[]\n",
      "['a', 'b', 'c']\n"
     ]
    }
   ],
   "source": [
    "int_list = [1, 2, 3]\n",
    "print(int_list)\n",
    "str_list = [\"python\", \"intro\"]\n",
    "print(str_list)\n",
    "mixed_list = [1, 1.1, \"intro\", True]\n",
    "print(mixed_list)\n",
    "empty_list = []\n",
    "print(empty_list)\n",
    "abc_list = list(\"abc\") #constructor\n",
    "print(abc_list)"
   ]
  },
  {
   "cell_type": "code",
   "execution_count": 2,
   "metadata": {},
   "outputs": [
    {
     "name": "stdout",
     "output_type": "stream",
     "text": [
      "1 1\n",
      "['a', 'b'] ['a', 'b']\n"
     ]
    }
   ],
   "source": [
    "print(mixed_list[0], mixed_list[-len(mixed_list)]) #indexing\n",
    "print(abc_list[0:2], abc_list[-len(abc_list):2-len(abc_list)]) #slicng"
   ]
  },
  {
   "cell_type": "code",
   "execution_count": 3,
   "metadata": {},
   "outputs": [
    {
     "name": "stdout",
     "output_type": "stream",
     "text": [
      "[1, 2, 3]\n",
      "3 2\n",
      "['a', 'c']\n"
     ]
    },
    {
     "ename": "NameError",
     "evalue": "name 'start' is not defined",
     "output_type": "error",
     "traceback": [
      "\u001b[1;31m---------------------------------------------------------------------------\u001b[0m",
      "\u001b[1;31mNameError\u001b[0m                                 Traceback (most recent call last)",
      "\u001b[1;32m<ipython-input-3-811a460f9714>\u001b[0m in \u001b[0;36m<module>\u001b[1;34m\u001b[0m\n\u001b[0;32m      2\u001b[0m \u001b[0mprint\u001b[0m\u001b[1;33m(\u001b[0m\u001b[0mint_list\u001b[0m\u001b[1;33m[\u001b[0m\u001b[1;33m-\u001b[0m\u001b[1;36m1\u001b[0m\u001b[1;33m]\u001b[0m\u001b[1;33m,\u001b[0m \u001b[0mint_list\u001b[0m\u001b[1;33m[\u001b[0m\u001b[1;33m-\u001b[0m\u001b[1;36m2\u001b[0m\u001b[1;33m]\u001b[0m\u001b[1;33m)\u001b[0m\u001b[1;33m\u001b[0m\u001b[1;33m\u001b[0m\u001b[0m\n\u001b[0;32m      3\u001b[0m \u001b[0mprint\u001b[0m\u001b[1;33m(\u001b[0m\u001b[0mabc_list\u001b[0m\u001b[1;33m[\u001b[0m\u001b[1;36m0\u001b[0m\u001b[1;33m:\u001b[0m\u001b[1;33m:\u001b[0m\u001b[1;36m2\u001b[0m\u001b[1;33m]\u001b[0m\u001b[1;33m)\u001b[0m\u001b[1;33m\u001b[0m\u001b[1;33m\u001b[0m\u001b[0m\n\u001b[1;32m----> 4\u001b[1;33m \u001b[0mprint\u001b[0m\u001b[1;33m(\u001b[0m\u001b[0mint_list\u001b[0m\u001b[1;33m[\u001b[0m\u001b[0mstart\u001b[0m\u001b[1;33m:\u001b[0m\u001b[0mend\u001b[0m\u001b[1;33m-\u001b[0m\u001b[1;36m1\u001b[0m\u001b[1;33m:\u001b[0m\u001b[0mstep\u001b[0m\u001b[1;33m]\u001b[0m\u001b[1;33m)\u001b[0m\u001b[1;33m\u001b[0m\u001b[1;33m\u001b[0m\u001b[0m\n\u001b[0m",
      "\u001b[1;31mNameError\u001b[0m: name 'start' is not defined"
     ]
    }
   ],
   "source": [
    "print(int_list) #[3, 2, 1]?\n",
    "print(int_list[-1], int_list[-2])\n",
    "print(abc_list[0::2])\n",
    "print(int_list[start:end-1:step])"
   ]
  },
  {
   "cell_type": "code",
   "execution_count": 4,
   "metadata": {},
   "outputs": [
    {
     "data": {
      "text/plain": [
       "[3, 2, 1]"
      ]
     },
     "execution_count": 4,
     "metadata": {},
     "output_type": "execute_result"
    }
   ],
   "source": [
    "int_list[::-1]"
   ]
  },
  {
   "cell_type": "code",
   "execution_count": 6,
   "metadata": {},
   "outputs": [
    {
     "name": "stdout",
     "output_type": "stream",
     "text": [
      "[1, 2, 3]\n",
      "[1, 2, 30]\n"
     ]
    }
   ],
   "source": [
    "print(int_list)\n",
    "int_list[-1] *= 10\n",
    "print(int_list)"
   ]
  },
  {
   "cell_type": "code",
   "execution_count": 7,
   "metadata": {},
   "outputs": [
    {
     "name": "stdout",
     "output_type": "stream",
     "text": [
      "[1, 1.1, 'intro', True]\n",
      "[1, 1.1, 'intro', True, 'python']\n"
     ]
    }
   ],
   "source": [
    "print(mixed_list)\n",
    "mixed_list.append(\"python\")\n",
    "print(mixed_list)"
   ]
  },
  {
   "cell_type": "markdown",
   "metadata": {},
   "source": [
    "# Tuple\n",
    "- immutable"
   ]
  },
  {
   "cell_type": "code",
   "execution_count": 9,
   "metadata": {},
   "outputs": [
    {
     "name": "stdout",
     "output_type": "stream",
     "text": [
      "(110, 0.98)\n",
      "(1, 1.1, 'intro', True, 'python') <class 'tuple'>\n"
     ]
    }
   ],
   "source": [
    "coord = (110, 0.98)\n",
    "print(coord)\n",
    "tuple_from_list = tuple(mixed_list)\n",
    "print(tuple_from_list, type(tuple_from_list))"
   ]
  },
  {
   "cell_type": "code",
   "execution_count": 11,
   "metadata": {},
   "outputs": [
    {
     "name": "stdout",
     "output_type": "stream",
     "text": [
      "(0.98, 110)\n",
      "('python', True, 'intro', 1.1, 1)\n"
     ]
    }
   ],
   "source": [
    "print(coord[::-1])\n",
    "print(tuple_from_list[::-1])"
   ]
  },
  {
   "cell_type": "code",
   "execution_count": 12,
   "metadata": {},
   "outputs": [
    {
     "name": "stdout",
     "output_type": "stream",
     "text": [
      "(110, 0.98)\n"
     ]
    },
    {
     "ename": "TypeError",
     "evalue": "'tuple' object does not support item assignment",
     "output_type": "error",
     "traceback": [
      "\u001b[1;31m---------------------------------------------------------------------------\u001b[0m",
      "\u001b[1;31mTypeError\u001b[0m                                 Traceback (most recent call last)",
      "\u001b[1;32m<ipython-input-12-56b9a8ec5d78>\u001b[0m in \u001b[0;36m<module>\u001b[1;34m\u001b[0m\n\u001b[0;32m      1\u001b[0m \u001b[0mprint\u001b[0m\u001b[1;33m(\u001b[0m\u001b[0mcoord\u001b[0m\u001b[1;33m)\u001b[0m\u001b[1;33m\u001b[0m\u001b[1;33m\u001b[0m\u001b[0m\n\u001b[1;32m----> 2\u001b[1;33m \u001b[0mcoord\u001b[0m\u001b[1;33m[\u001b[0m\u001b[1;36m0\u001b[0m\u001b[1;33m]\u001b[0m \u001b[1;33m*=\u001b[0m \u001b[1;36m10\u001b[0m\u001b[1;33m\u001b[0m\u001b[1;33m\u001b[0m\u001b[0m\n\u001b[0m\u001b[0;32m      3\u001b[0m \u001b[0mprint\u001b[0m\u001b[1;33m(\u001b[0m\u001b[0mcoord\u001b[0m\u001b[1;33m)\u001b[0m\u001b[1;33m\u001b[0m\u001b[1;33m\u001b[0m\u001b[0m\n",
      "\u001b[1;31mTypeError\u001b[0m: 'tuple' object does not support item assignment"
     ]
    }
   ],
   "source": [
    "print(coord)\n",
    "coord[0] *= 10\n",
    "print(coord)"
   ]
  },
  {
   "cell_type": "code",
   "execution_count": 13,
   "metadata": {},
   "outputs": [
    {
     "name": "stdout",
     "output_type": "stream",
     "text": [
      "intro to python\n"
     ]
    }
   ],
   "source": [
    "course_name = \"intro to python\"\n",
    "print(course_name, course_name[-1])\n",
    "course_name[-1] = \"m\""
   ]
  },
  {
   "cell_type": "markdown",
   "metadata": {},
   "source": [
    "## Set\n",
    "- utk menghapus duplicate"
   ]
  },
  {
   "cell_type": "code",
   "execution_count": 14,
   "metadata": {},
   "outputs": [
    {
     "name": "stdout",
     "output_type": "stream",
     "text": [
      "{'eza', 'tiurma', 'windi', 'yoanita', 'idfi', 'septy'} <class 'set'>\n"
     ]
    }
   ],
   "source": [
    "names = {\"eza\", \"idfi\", \"yoanita\", \"septy\", \"tiurma\", \"windi\"}\n",
    "print(names, type(names))"
   ]
  },
  {
   "cell_type": "code",
   "execution_count": 15,
   "metadata": {},
   "outputs": [
    {
     "name": "stdout",
     "output_type": "stream",
     "text": [
      "length of list: 7 {1, 2, 3, 5, 6, 7, 8}\n",
      "num of unique values: {1, 2, 3, 5, 6, 7, 8}\n"
     ]
    }
   ],
   "source": [
    "dup_list = {1, 2, 3, 3, 5, 6, 7, 8, 6, 6}\n",
    "print(\"length of list:\", len(dup_list), dup_list)\n",
    "unique_list = set(dup_list)\n",
    "print(\"num of unique values:\", unique_list)"
   ]
  },
  {
   "cell_type": "markdown",
   "metadata": {},
   "source": [
    "## Dictionary"
   ]
  },
  {
   "cell_type": "code",
   "execution_count": 16,
   "metadata": {},
   "outputs": [
    {
     "name": "stdout",
     "output_type": "stream",
     "text": [
      "{'jack': 167, 'ryan': 190, 'paul': 182} <class 'dict'>\n"
     ]
    }
   ],
   "source": [
    "dict_height = {\"jack\": 167, \"ryan\": 190, \"paul\": 182}\n",
    "print(dict_height, type(dict_height))"
   ]
  },
  {
   "cell_type": "code",
   "execution_count": 18,
   "metadata": {},
   "outputs": [
    {
     "name": "stdout",
     "output_type": "stream",
     "text": [
      "jack's height: 167\n",
      "ryan's height: 190\n"
     ]
    }
   ],
   "source": [
    "print(\"jack's height:\", dict_height[\"jack\"])\n",
    "print(\"ryan's height:\", dict_height[\"ryan\"])"
   ]
  },
  {
   "cell_type": "code",
   "execution_count": 20,
   "metadata": {},
   "outputs": [
    {
     "name": "stdout",
     "output_type": "stream",
     "text": [
      "{'id': [1, 2, 3], 'name': ['jack', 'ryan'], 'amount': [100, 88, 94], 'coord': [(20, 199), (19, 211)]}\n"
     ]
    }
   ],
   "source": [
    "dict_transaction = {\"id\": [1, 2, 3], \"name\": [\"jack\", \"ryan\"], \"amount\": [100, 88, 94], \"coord\": [(20, 199), (19, 211)]}\n",
    "print(dict_transaction)"
   ]
  },
  {
   "cell_type": "code",
   "execution_count": 22,
   "metadata": {},
   "outputs": [
    {
     "name": "stdout",
     "output_type": "stream",
     "text": [
      "['ryan', 'jack']\n",
      "[88, 94]\n",
      "{'id': [1, 2, 3], 'name': ['jack', 'ryan'], 'amount': [110, 95], 'coord': [(20, 199), (19, 211)]}\n"
     ]
    }
   ],
   "source": [
    "print(dict_transaction[\"name\"][::-1])\n",
    "print(dict_transaction[\"amount\"][1:])\n",
    "dict_transaction[\"amount\"] = [110, 95]\n",
    "print(dict_transaction)"
   ]
  },
  {
   "cell_type": "code",
   "execution_count": 24,
   "metadata": {},
   "outputs": [
    {
     "data": {
      "text/plain": [
       "(20, 199)"
      ]
     },
     "execution_count": 24,
     "metadata": {},
     "output_type": "execute_result"
    }
   ],
   "source": [
    "\n",
    "dict_transaction[\"coord\"][0][0]\n",
    "dict_transaction[\"coord\"][0]"
   ]
  },
  {
   "cell_type": "code",
   "execution_count": 40,
   "metadata": {},
   "outputs": [
    {
     "name": "stdout",
     "output_type": "stream",
     "text": [
      "(110, 19)\n",
      "x = 110, y = 19\n"
     ]
    }
   ],
   "source": [
    "coord = 110, 19\n",
    "print(coord)\n",
    "x, y = coord\n",
    "print(f\"x = {x}, y = {y}\")"
   ]
  },
  {
   "cell_type": "code",
   "execution_count": 41,
   "metadata": {},
   "outputs": [
    {
     "name": "stdout",
     "output_type": "stream",
     "text": [
      "id: [1, 2, 3]\n",
      "name: ['jack', 'ryan']\n",
      "amount: [110, 95]\n",
      "coord: [(20, 199), (19, 211)]\n"
     ]
    }
   ],
   "source": [
    "for key, value in dict_transaction.items():\n",
    "    print(f\"{key}: {value}\")"
   ]
  },
  {
   "cell_type": "code",
   "execution_count": 25,
   "metadata": {},
   "outputs": [
    {
     "data": {
      "text/plain": [
       "dict_keys(['id', 'name', 'amount', 'coord'])"
      ]
     },
     "execution_count": 25,
     "metadata": {},
     "output_type": "execute_result"
    }
   ],
   "source": [
    "dict_transaction.keys()"
   ]
  },
  {
   "cell_type": "code",
   "execution_count": 27,
   "metadata": {},
   "outputs": [
    {
     "data": {
      "text/plain": [
       "dict_items([('id', [1, 2, 3]), ('name', ['jack', 'ryan']), ('amount', [110, 95]), ('coord', [(20, 199), (19, 211)])])"
      ]
     },
     "execution_count": 27,
     "metadata": {},
     "output_type": "execute_result"
    }
   ],
   "source": [
    "dict_transaction.items()"
   ]
  },
  {
   "cell_type": "code",
   "execution_count": 28,
   "metadata": {},
   "outputs": [
    {
     "data": {
      "text/plain": [
       "[110, 95]"
      ]
     },
     "execution_count": 28,
     "metadata": {},
     "output_type": "execute_result"
    }
   ],
   "source": [
    "dict_transaction.get(\"amount\", \"not found\")"
   ]
  },
  {
   "cell_type": "code",
   "execution_count": 29,
   "metadata": {},
   "outputs": [
    {
     "data": {
      "text/plain": [
       "'not found'"
      ]
     },
     "execution_count": 29,
     "metadata": {},
     "output_type": "execute_result"
    }
   ],
   "source": [
    "dict_transaction.get(\"age\", \"not found\")"
   ]
  },
  {
   "cell_type": "code",
   "execution_count": 31,
   "metadata": {},
   "outputs": [
    {
     "name": "stdout",
     "output_type": "stream",
     "text": [
      "['KSM', 'KPR']\n",
      "{'Auto', 'KUM'} <class 'set'>\n",
      "['KSM', 'KPR', 'Auto', 'KUM']\n"
     ]
    }
   ],
   "source": [
    "prod = [\"KSM\", \"KPR\"]\n",
    "print(prod)\n",
    "product = {\"Auto\", \"KUM\"}\n",
    "print(product, type(product))\n",
    "\n",
    "prod += list(product)\n",
    "print(prod)"
   ]
  },
  {
   "cell_type": "markdown",
   "metadata": {},
   "source": [
    "## Control Flow"
   ]
  },
  {
   "cell_type": "markdown",
   "metadata": {},
   "source": [
    "## While Loop"
   ]
  },
  {
   "cell_type": "code",
   "execution_count": 34,
   "metadata": {},
   "outputs": [
    {
     "name": "stdout",
     "output_type": "stream",
     "text": [
      "0 septy\n",
      "1 eza\n",
      "2 idfi taniya\n",
      "3 idfi taniya kusuma\n",
      "4 tiurma\n",
      "5 yoanita\n",
      "6 idfi\n",
      "7 windi\n"
     ]
    }
   ],
   "source": [
    "list_names = [\"septy\", \"eza\", \"idfi taniya\", \"idfi taniya kusuma\", \"tiurma\", \"yoanita\", \"idfi\", \"windi\"]\n",
    "idx = 0\n",
    "while idx < len(list_names):\n",
    "        print(idx, list_names[idx])\n",
    "        idx += 1"
   ]
  },
  {
   "cell_type": "code",
   "execution_count": 35,
   "metadata": {},
   "outputs": [
    {
     "name": "stdout",
     "output_type": "stream",
     "text": [
      "processing: septy\n",
      "processing: eza\n",
      "processing: idfi taniya\n",
      "idfi taniya\n",
      "processing: idfi taniya kusuma\n",
      "idfi taniya kusuma\n",
      "processing: tiurma\n",
      "processing: yoanita\n",
      "processing: idfi\n",
      "processing: windi\n",
      "taniya in student: ['idfi taniya', 'idfi taniya kusuma']\n"
     ]
    }
   ],
   "source": [
    "list_taniya = []\n",
    "idx = 0\n",
    "while idx < len(list_names):\n",
    "    student = list_names[idx]\n",
    "    print(\"processing:\", student)\n",
    "    if \"taniya\" in student:\n",
    "        print(student)\n",
    "        list_taniya.append(student)\n",
    "    idx += 1\n",
    "        \n",
    "print(\"taniya in student:\", list_taniya)"
   ]
  },
  {
   "cell_type": "code",
   "execution_count": 36,
   "metadata": {},
   "outputs": [
    {
     "name": "stdout",
     "output_type": "stream",
     "text": [
      "processing: septy\n",
      "processing: eza\n",
      "processing: tiurma\n",
      "processing: idfi\n",
      "processing: windi\n",
      "taniya in student: ['idfi taniya', 'idfi taniya kusuma', 'yoanita']\n"
     ]
    }
   ],
   "source": [
    "list_taniya = []\n",
    "idx = 0\n",
    "while idx < len(list_names):\n",
    "    student = list_names[idx]\n",
    "    idx += 1\n",
    "    if \"ani\" in student:\n",
    "        list_taniya.append(student)\n",
    "        continue \n",
    "    print(\"processing:\", student)\n",
    "    \n",
    "        \n",
    "print(\"taniya in student:\", list_taniya)"
   ]
  },
  {
   "cell_type": "code",
   "execution_count": 37,
   "metadata": {},
   "outputs": [
    {
     "name": "stdout",
     "output_type": "stream",
     "text": [
      "processing: septy\n",
      "processing: eza\n",
      "taniya in student: ['idfi taniya']\n"
     ]
    }
   ],
   "source": [
    "list_taniya = []\n",
    "idx = 0\n",
    "while idx < len(list_names):\n",
    "    student = list_names[idx]\n",
    "    idx += 1\n",
    "    if \"ani\" in student:\n",
    "        list_taniya.append(student)\n",
    "        break \n",
    "    print(\"processing:\", student)\n",
    "    \n",
    "        \n",
    "print(\"taniya in student:\", list_taniya)"
   ]
  },
  {
   "cell_type": "markdown",
   "metadata": {},
   "source": [
    "## For Loop"
   ]
  },
  {
   "cell_type": "code",
   "execution_count": 38,
   "metadata": {},
   "outputs": [
    {
     "name": "stdout",
     "output_type": "stream",
     "text": [
      "septy\n",
      "eza\n",
      "idfi taniya\n",
      "idfi taniya kusuma\n",
      "tiurma\n",
      "yoanita\n",
      "idfi\n",
      "windi\n"
     ]
    }
   ],
   "source": [
    "for student in list_names:\n",
    "    print(student)"
   ]
  },
  {
   "cell_type": "code",
   "execution_count": 42,
   "metadata": {},
   "outputs": [
    {
     "ename": "SyntaxError",
     "evalue": "EOL while scanning string literal (<ipython-input-42-e7c7d0afd071>, line 6)",
     "output_type": "error",
     "traceback": [
      "\u001b[1;36m  File \u001b[1;32m\"<ipython-input-42-e7c7d0afd071>\"\u001b[1;36m, line \u001b[1;32m6\u001b[0m\n\u001b[1;33m    print(f\")\u001b[0m\n\u001b[1;37m             ^\u001b[0m\n\u001b[1;31mSyntaxError\u001b[0m\u001b[1;31m:\u001b[0m EOL while scanning string literal\n"
     ]
    }
   ],
   "source": [
    "list_taniya = list()\n",
    "for student in list_names:\n",
    "        if \"taniya\" in students.lower():\n",
    "            list_taniya.append(student)\n",
    "            continue\n",
    "        print(f\")"
   ]
  },
  {
   "cell_type": "code",
   "execution_count": 46,
   "metadata": {},
   "outputs": [
    {
     "name": "stdout",
     "output_type": "stream",
     "text": [
      "0 .. sama aja dengan: septy\n",
      "1 .. sama aja dengan: eza\n",
      "2 .. sama aja dengan: idfi taniya\n",
      "3 .. sama aja dengan: idfi taniya kusuma\n",
      "4 .. sama aja dengan: tiurma\n",
      "5 .. sama aja dengan: yoanita\n",
      "6 .. sama aja dengan: idfi\n",
      "7 .. sama aja dengan: windi\n"
     ]
    }
   ],
   "source": [
    "for idx, value in enumerate(list_names):\n",
    "    print(idx, \".. sama aja dengan:\", list_names[idx])"
   ]
  },
  {
   "cell_type": "code",
   "execution_count": 48,
   "metadata": {},
   "outputs": [
    {
     "data": {
      "text/plain": [
       "(range(0, 10), range(1, 10))"
      ]
     },
     "execution_count": 48,
     "metadata": {},
     "output_type": "execute_result"
    }
   ],
   "source": [
    "range(10), range(1, 10)"
   ]
  },
  {
   "cell_type": "code",
   "execution_count": 54,
   "metadata": {},
   "outputs": [
    {
     "ename": "AttributeError",
     "evalue": "'list' object has no attribute 'split'",
     "output_type": "error",
     "traceback": [
      "\u001b[1;31m---------------------------------------------------------------------------\u001b[0m",
      "\u001b[1;31mAttributeError\u001b[0m                            Traceback (most recent call last)",
      "\u001b[1;32m<ipython-input-54-52e8f0c804a2>\u001b[0m in \u001b[0;36m<module>\u001b[1;34m\u001b[0m\n\u001b[0;32m      4\u001b[0m \u001b[1;32mfor\u001b[0m \u001b[0mdate\u001b[0m \u001b[1;32min\u001b[0m \u001b[0mdates\u001b[0m\u001b[1;33m:\u001b[0m\u001b[1;33m\u001b[0m\u001b[1;33m\u001b[0m\u001b[0m\n\u001b[0;32m      5\u001b[0m     \u001b[0mmonthly\u001b[0m \u001b[1;33m=\u001b[0m \u001b[1;33m[\u001b[0m\u001b[1;33m]\u001b[0m\u001b[1;33m\u001b[0m\u001b[1;33m\u001b[0m\u001b[0m\n\u001b[1;32m----> 6\u001b[1;33m     \u001b[0mday\u001b[0m \u001b[1;33m=\u001b[0m \u001b[0mint\u001b[0m\u001b[1;33m(\u001b[0m\u001b[0mlist\u001b[0m\u001b[1;33m(\u001b[0m\u001b[0mdates\u001b[0m\u001b[1;33m.\u001b[0m\u001b[0msplit\u001b[0m\u001b[1;33m(\u001b[0m\u001b[1;34m\"-\"\u001b[0m\u001b[1;33m)\u001b[0m\u001b[1;33m[\u001b[0m\u001b[1;33m-\u001b[0m\u001b[1;36m1\u001b[0m\u001b[1;33m]\u001b[0m\u001b[1;33m)\u001b[0m\u001b[1;33m[\u001b[0m\u001b[1;33m-\u001b[0m\u001b[1;36m1\u001b[0m\u001b[1;33m]\u001b[0m\u001b[1;33m)\u001b[0m\u001b[1;33m\u001b[0m\u001b[1;33m\u001b[0m\u001b[0m\n\u001b[0m\u001b[0;32m      7\u001b[0m     \u001b[0mmonth\u001b[0m \u001b[1;33m=\u001b[0m \u001b[0mint\u001b[0m\u001b[1;33m(\u001b[0m\u001b[0mlist\u001b[0m\u001b[1;33m(\u001b[0m\u001b[0mdates\u001b[0m\u001b[1;33m.\u001b[0m\u001b[0msplit\u001b[0m\u001b[1;33m(\u001b[0m\u001b[1;34m\"-\"\u001b[0m\u001b[1;33m)\u001b[0m\u001b[1;33m[\u001b[0m\u001b[1;36m1\u001b[0m\u001b[1;33m]\u001b[0m\u001b[1;33m)\u001b[0m\u001b[1;33m[\u001b[0m\u001b[1;33m-\u001b[0m\u001b[1;36m1\u001b[0m\u001b[1;33m]\u001b[0m\u001b[1;33m)\u001b[0m\u001b[1;33m\u001b[0m\u001b[1;33m\u001b[0m\u001b[0m\n\u001b[0;32m      8\u001b[0m     \u001b[1;32mwhile\u001b[0m \u001b[0mday\u001b[0m \u001b[1;33m<=\u001b[0m \u001b[1;36m31\u001b[0m\u001b[1;33m:\u001b[0m\u001b[1;33m\u001b[0m\u001b[1;33m\u001b[0m\u001b[0m\n",
      "\u001b[1;31mAttributeError\u001b[0m: 'list' object has no attribute 'split'"
     ]
    }
   ],
   "source": [
    "dates = [\"2020-08-01\", \"2020-07-01\"]\n",
    "all_dates = []\n",
    "\n",
    "for date in dates:\n",
    "    monthly = []\n",
    "    day = int(list(dates.split(\"-\")[-1])[-1])\n",
    "    month = int(list(dates.split(\"-\")[1])[-1])\n",
    "    while day <= 31:\n",
    "        day += 1\n",
    "        if day < 10:\n",
    "            monthly.append(\"2020-0\" + str(month) + \"-0\" + str(day))\n",
    "        else:\n",
    "            monthly.append(\"2020-0\" + str(month) + \"-\" + str(day))\n",
    "    all_dates.append(monthly)\n"
   ]
  },
  {
   "cell_type": "code",
   "execution_count": null,
   "metadata": {},
   "outputs": [],
   "source": []
  }
 ],
 "metadata": {
  "kernelspec": {
   "display_name": "Python 3",
   "language": "python",
   "name": "python3"
  },
  "language_info": {
   "codemirror_mode": {
    "name": "ipython",
    "version": 3
   },
   "file_extension": ".py",
   "mimetype": "text/x-python",
   "name": "python",
   "nbconvert_exporter": "python",
   "pygments_lexer": "ipython3",
   "version": "3.8.3"
  }
 },
 "nbformat": 4,
 "nbformat_minor": 4
}
